{
 "cells": [
  {
   "cell_type": "markdown",
   "metadata": {},
   "source": [
    "![Theater Scene](images/zooey-deschanel-joseph-gordon-levitt-500-days-of-summer-vaRCdgM0fLNrW.gif)"
   ]
  },
  {
   "cell_type": "markdown",
   "metadata": {},
   "source": [
    "# Microsoft's Film Analysis Project\n",
    "\n",
    "**Author:** Sierra Stanton\n",
    "***"
   ]
  },
  {
   "cell_type": "markdown",
   "metadata": {},
   "source": [
    "## Overview\n",
    "\n",
    "This project analyses the film industry as we determine what initial questions should be answered for a newcomer interested in starting their own studio. We have been charged with helping Microsoft determine which types of films do best at the box office and what to keep in mind as they enter a new, highly competitve sector. We'll use two datasets to compare film attributes and garnered profits. Microsoft can use the following analysis to determine what genres of original content they'd like to focus on, which competitors are the most revered, and who they'll want on their team."
   ]
  },
  {
   "cell_type": "markdown",
   "metadata": {},
   "source": [
    "![Eureka Moment](images/lgbt-transgender-trans-l0ErBdKr1fnFRZIbu.gif)"
   ]
  },
  {
   "cell_type": "markdown",
   "metadata": {},
   "source": [
    "## Business Problem\n",
    "\n",
    "Microsoft sees all the big companies creating original video content and they want to get in on the fun. They have decided to create a new movie studio, but they don’t know anything about creating movies. I am charged with exploring what types of films are currently doing the best at the box office. I will also translate those findings into actionable insights that the head of Microsoft's new movie studio can use to help decide what type of films to create and what they should keep in mind as they enter into a new and highly competitive sector.\n",
    "\n",
    "First, we'll tackle which type of films are worth focusing on and answer this by establishing which genres audiences favor most and which genres pull in the most return on investment (ROI).\n",
    "\n",
    "Second, since Microsoft doesn't know anything about creating movies - we'll hand over proven recommendations on who to hire with experience in a production's most pivotal roles. From directors to writers and more, we'll do a deep dive into the most revered among each role. We'll even give a little insight into some of the executives pulling the strings. \n",
    "\n",
    "Whether Microsoft wants to collaborate with the storytellers, bring them on as advisors, or simply have a greater understanding of the competition - that short list of people will be revealed."
   ]
  },
  {
   "cell_type": "markdown",
   "metadata": {},
   "source": [
    "## Data Understanding\n",
    "\n",
    "Data will be used from the following sources:\n",
    "* __[The Numbers](https://the-numbers.com)__\n",
    "* __[IMDB](https://imdb.com)__\n",
    "\n",
    "The Numbers' Film Budgets (`tn.movie_budgets.csv.gz`): this dataset shows us monetary numbers worth considering when planning to produce a film. This includes the initial production budget and gross earning at both a domestic and worldwide scale for the film in question. We are also given the release date of the film for additional context. I intend to match the production budget and worldwide gross earnings wiith IMDB's top films to gain insight. This will be further developed with a new column we'll create - ROI.\n",
    "\n",
    "IMDB's Top 250 Films(`IMDB_Top250Engmovies2_OMDB_Detailed.csv.gz`): this dataset shows us the 250 most popular films on IMDB.com and many of the film's attributes. The information we'll be most interested in analyzing revolves around the type of film (genre) and the people involved in bringing the film to life (directors, writers, actors, production)."
   ]
  },
  {
   "cell_type": "code",
   "execution_count": 1,
   "metadata": {},
   "outputs": [],
   "source": [
    "# Import standard packages\n",
    "import pandas as pd\n",
    "import matplotlib.pyplot as plt\n",
    "import re\n",
    "\n",
    "%matplotlib inline"
   ]
  },
  {
   "cell_type": "markdown",
   "metadata": {},
   "source": [
    "### Import: The Numbers' Film Budgets"
   ]
  },
  {
   "cell_type": "code",
   "execution_count": 2,
   "metadata": {
    "scrolled": true
   },
   "outputs": [
    {
     "name": "stdout",
     "output_type": "stream",
     "text": [
      "<class 'pandas.core.frame.DataFrame'>\n",
      "RangeIndex: 5782 entries, 0 to 5781\n",
      "Data columns (total 6 columns):\n",
      " #   Column             Non-Null Count  Dtype \n",
      "---  ------             --------------  ----- \n",
      " 0   id                 5782 non-null   int64 \n",
      " 1   release_date       5782 non-null   object\n",
      " 2   movie              5782 non-null   object\n",
      " 3   production_budget  5782 non-null   object\n",
      " 4   domestic_gross     5782 non-null   object\n",
      " 5   worldwide_gross    5782 non-null   object\n",
      "dtypes: int64(1), object(5)\n",
      "memory usage: 271.2+ KB\n"
     ]
    },
    {
     "data": {
      "text/plain": [
       "None"
      ]
     },
     "metadata": {},
     "output_type": "display_data"
    },
    {
     "data": {
      "text/html": [
       "<div>\n",
       "<style scoped>\n",
       "    .dataframe tbody tr th:only-of-type {\n",
       "        vertical-align: middle;\n",
       "    }\n",
       "\n",
       "    .dataframe tbody tr th {\n",
       "        vertical-align: top;\n",
       "    }\n",
       "\n",
       "    .dataframe thead th {\n",
       "        text-align: right;\n",
       "    }\n",
       "</style>\n",
       "<table border=\"1\" class=\"dataframe\">\n",
       "  <thead>\n",
       "    <tr style=\"text-align: right;\">\n",
       "      <th></th>\n",
       "      <th>id</th>\n",
       "      <th>release_date</th>\n",
       "      <th>movie</th>\n",
       "      <th>production_budget</th>\n",
       "      <th>domestic_gross</th>\n",
       "      <th>worldwide_gross</th>\n",
       "    </tr>\n",
       "  </thead>\n",
       "  <tbody>\n",
       "    <tr>\n",
       "      <th>0</th>\n",
       "      <td>1</td>\n",
       "      <td>Dec 18, 2009</td>\n",
       "      <td>Avatar</td>\n",
       "      <td>$425,000,000</td>\n",
       "      <td>$760,507,625</td>\n",
       "      <td>$2,776,345,279</td>\n",
       "    </tr>\n",
       "    <tr>\n",
       "      <th>1</th>\n",
       "      <td>2</td>\n",
       "      <td>May 20, 2011</td>\n",
       "      <td>Pirates of the Caribbean: On Stranger Tides</td>\n",
       "      <td>$410,600,000</td>\n",
       "      <td>$241,063,875</td>\n",
       "      <td>$1,045,663,875</td>\n",
       "    </tr>\n",
       "    <tr>\n",
       "      <th>2</th>\n",
       "      <td>3</td>\n",
       "      <td>Jun 7, 2019</td>\n",
       "      <td>Dark Phoenix</td>\n",
       "      <td>$350,000,000</td>\n",
       "      <td>$42,762,350</td>\n",
       "      <td>$149,762,350</td>\n",
       "    </tr>\n",
       "    <tr>\n",
       "      <th>3</th>\n",
       "      <td>4</td>\n",
       "      <td>May 1, 2015</td>\n",
       "      <td>Avengers: Age of Ultron</td>\n",
       "      <td>$330,600,000</td>\n",
       "      <td>$459,005,868</td>\n",
       "      <td>$1,403,013,963</td>\n",
       "    </tr>\n",
       "    <tr>\n",
       "      <th>4</th>\n",
       "      <td>5</td>\n",
       "      <td>Dec 15, 2017</td>\n",
       "      <td>Star Wars Ep. VIII: The Last Jedi</td>\n",
       "      <td>$317,000,000</td>\n",
       "      <td>$620,181,382</td>\n",
       "      <td>$1,316,721,747</td>\n",
       "    </tr>\n",
       "  </tbody>\n",
       "</table>\n",
       "</div>"
      ],
      "text/plain": [
       "   id  release_date                                        movie  \\\n",
       "0   1  Dec 18, 2009                                       Avatar   \n",
       "1   2  May 20, 2011  Pirates of the Caribbean: On Stranger Tides   \n",
       "2   3   Jun 7, 2019                                 Dark Phoenix   \n",
       "3   4   May 1, 2015                      Avengers: Age of Ultron   \n",
       "4   5  Dec 15, 2017            Star Wars Ep. VIII: The Last Jedi   \n",
       "\n",
       "  production_budget domestic_gross worldwide_gross  \n",
       "0      $425,000,000   $760,507,625  $2,776,345,279  \n",
       "1      $410,600,000   $241,063,875  $1,045,663,875  \n",
       "2      $350,000,000    $42,762,350    $149,762,350  \n",
       "3      $330,600,000   $459,005,868  $1,403,013,963  \n",
       "4      $317,000,000   $620,181,382  $1,316,721,747  "
      ]
     },
     "execution_count": 2,
     "metadata": {},
     "output_type": "execute_result"
    }
   ],
   "source": [
    "# import tn.movie_budgets.csv.gz from our data folder\n",
    "\n",
    "df_filmbudgets = pd.read_csv('data/zippedData/tn.movie_budgets.csv.gz')\n",
    "display(df_filmbudgets.info())\n",
    "df_filmbudgets.head()"
   ]
  },
  {
   "cell_type": "markdown",
   "metadata": {},
   "source": [
    "***"
   ]
  },
  {
   "cell_type": "markdown",
   "metadata": {},
   "source": [
    "### Import: IMDB's Top 250 Films"
   ]
  },
  {
   "cell_type": "code",
   "execution_count": 3,
   "metadata": {},
   "outputs": [
    {
     "name": "stdout",
     "output_type": "stream",
     "text": [
      "<class 'pandas.core.frame.DataFrame'>\n",
      "RangeIndex: 250 entries, 0 to 249\n",
      "Data columns (total 38 columns):\n",
      " #   Column             Non-Null Count  Dtype  \n",
      "---  ------             --------------  -----  \n",
      " 0   Unnamed: 0         250 non-null    int64  \n",
      " 1   Title              250 non-null    object \n",
      " 2   Year               250 non-null    int64  \n",
      " 3   Rated              250 non-null    object \n",
      " 4   Released           248 non-null    object \n",
      " 5   Runtime            250 non-null    object \n",
      " 6   Genre              250 non-null    object \n",
      " 7   Director           250 non-null    object \n",
      " 8   Writer             249 non-null    object \n",
      " 9   Actors             250 non-null    object \n",
      " 10  Plot               250 non-null    object \n",
      " 11  Language           250 non-null    object \n",
      " 12  Country            250 non-null    object \n",
      " 13  Awards             245 non-null    object \n",
      " 14  Poster             250 non-null    object \n",
      " 15  Ratings.Source     250 non-null    object \n",
      " 16  Ratings.Value      250 non-null    object \n",
      " 17  Metascore          177 non-null    float64\n",
      " 18  imdbRating         250 non-null    float64\n",
      " 19  imdbVotes          250 non-null    object \n",
      " 20  imdbID             250 non-null    object \n",
      " 21  Type               250 non-null    object \n",
      " 22  tomatoMeter        0 non-null      float64\n",
      " 23  tomatoImage        0 non-null      float64\n",
      " 24  tomatoRating       0 non-null      float64\n",
      " 25  tomatoReviews      0 non-null      float64\n",
      " 26  tomatoFresh        0 non-null      float64\n",
      " 27  tomatoRotten       0 non-null      float64\n",
      " 28  tomatoConsensus    0 non-null      float64\n",
      " 29  tomatoUserMeter    0 non-null      float64\n",
      " 30  tomatoUserRating   0 non-null      float64\n",
      " 31  tomatoUserReviews  0 non-null      float64\n",
      " 32  tomatoURL          250 non-null    object \n",
      " 33  DVD                247 non-null    object \n",
      " 34  BoxOffice          75 non-null     object \n",
      " 35  Production         250 non-null    object \n",
      " 36  Website            131 non-null    object \n",
      " 37  Response           250 non-null    bool   \n",
      "dtypes: bool(1), float64(12), int64(2), object(23)\n",
      "memory usage: 72.6+ KB\n"
     ]
    },
    {
     "data": {
      "text/plain": [
       "None"
      ]
     },
     "metadata": {},
     "output_type": "display_data"
    },
    {
     "data": {
      "text/html": [
       "<div>\n",
       "<style scoped>\n",
       "    .dataframe tbody tr th:only-of-type {\n",
       "        vertical-align: middle;\n",
       "    }\n",
       "\n",
       "    .dataframe tbody tr th {\n",
       "        vertical-align: top;\n",
       "    }\n",
       "\n",
       "    .dataframe thead th {\n",
       "        text-align: right;\n",
       "    }\n",
       "</style>\n",
       "<table border=\"1\" class=\"dataframe\">\n",
       "  <thead>\n",
       "    <tr style=\"text-align: right;\">\n",
       "      <th></th>\n",
       "      <th>Unnamed: 0</th>\n",
       "      <th>Title</th>\n",
       "      <th>Year</th>\n",
       "      <th>Rated</th>\n",
       "      <th>Released</th>\n",
       "      <th>Runtime</th>\n",
       "      <th>Genre</th>\n",
       "      <th>Director</th>\n",
       "      <th>Writer</th>\n",
       "      <th>Actors</th>\n",
       "      <th>...</th>\n",
       "      <th>tomatoConsensus</th>\n",
       "      <th>tomatoUserMeter</th>\n",
       "      <th>tomatoUserRating</th>\n",
       "      <th>tomatoUserReviews</th>\n",
       "      <th>tomatoURL</th>\n",
       "      <th>DVD</th>\n",
       "      <th>BoxOffice</th>\n",
       "      <th>Production</th>\n",
       "      <th>Website</th>\n",
       "      <th>Response</th>\n",
       "    </tr>\n",
       "  </thead>\n",
       "  <tbody>\n",
       "    <tr>\n",
       "      <th>0</th>\n",
       "      <td>1</td>\n",
       "      <td>The Shawshank Redemption</td>\n",
       "      <td>1994</td>\n",
       "      <td>R</td>\n",
       "      <td>14 Oct 1994</td>\n",
       "      <td>142 min</td>\n",
       "      <td>Crime, Drama</td>\n",
       "      <td>Frank Darabont</td>\n",
       "      <td>Stephen King (short story \"Rita Hayworth and S...</td>\n",
       "      <td>Tim Robbins, Morgan Freeman, Bob Gunton, Willi...</td>\n",
       "      <td>...</td>\n",
       "      <td>NaN</td>\n",
       "      <td>NaN</td>\n",
       "      <td>NaN</td>\n",
       "      <td>NaN</td>\n",
       "      <td>http://www.rottentomatoes.com/m/shawshank_rede...</td>\n",
       "      <td>27 Jan 1998</td>\n",
       "      <td>NaN</td>\n",
       "      <td>Columbia Pictures</td>\n",
       "      <td>NaN</td>\n",
       "      <td>True</td>\n",
       "    </tr>\n",
       "    <tr>\n",
       "      <th>1</th>\n",
       "      <td>2</td>\n",
       "      <td>The Godfather</td>\n",
       "      <td>1972</td>\n",
       "      <td>R</td>\n",
       "      <td>24 Mar 1972</td>\n",
       "      <td>175 min</td>\n",
       "      <td>Crime, Drama</td>\n",
       "      <td>Francis Ford Coppola</td>\n",
       "      <td>Mario Puzo (screenplay), Francis Ford Coppola ...</td>\n",
       "      <td>Marlon Brando, Al Pacino, James Caan, Richard ...</td>\n",
       "      <td>...</td>\n",
       "      <td>NaN</td>\n",
       "      <td>NaN</td>\n",
       "      <td>NaN</td>\n",
       "      <td>NaN</td>\n",
       "      <td>http://www.rottentomatoes.com/m/godfather/</td>\n",
       "      <td>09 Oct 2001</td>\n",
       "      <td>NaN</td>\n",
       "      <td>Paramount Pictures</td>\n",
       "      <td>http://www.thegodfather.com</td>\n",
       "      <td>True</td>\n",
       "    </tr>\n",
       "    <tr>\n",
       "      <th>2</th>\n",
       "      <td>3</td>\n",
       "      <td>The Godfather: Part II</td>\n",
       "      <td>1974</td>\n",
       "      <td>R</td>\n",
       "      <td>20 Dec 1974</td>\n",
       "      <td>202 min</td>\n",
       "      <td>Crime, Drama</td>\n",
       "      <td>Francis Ford Coppola</td>\n",
       "      <td>Francis Ford Coppola (screenplay), Mario Puzo ...</td>\n",
       "      <td>Al Pacino, Robert Duvall, Diane Keaton, Robert...</td>\n",
       "      <td>...</td>\n",
       "      <td>NaN</td>\n",
       "      <td>NaN</td>\n",
       "      <td>NaN</td>\n",
       "      <td>NaN</td>\n",
       "      <td>http://www.rottentomatoes.com/m/godfather_part...</td>\n",
       "      <td>24 May 2005</td>\n",
       "      <td>NaN</td>\n",
       "      <td>Paramount Pictures</td>\n",
       "      <td>http://www.thegodfather.com/</td>\n",
       "      <td>True</td>\n",
       "    </tr>\n",
       "    <tr>\n",
       "      <th>3</th>\n",
       "      <td>4</td>\n",
       "      <td>The Dark Knight</td>\n",
       "      <td>2008</td>\n",
       "      <td>PG-13</td>\n",
       "      <td>18 Jul 2008</td>\n",
       "      <td>152 min</td>\n",
       "      <td>Action, Crime, Drama</td>\n",
       "      <td>Christopher Nolan</td>\n",
       "      <td>Jonathan Nolan (screenplay), Christopher Nolan...</td>\n",
       "      <td>Christian Bale, Heath Ledger, Aaron Eckhart, M...</td>\n",
       "      <td>...</td>\n",
       "      <td>NaN</td>\n",
       "      <td>NaN</td>\n",
       "      <td>NaN</td>\n",
       "      <td>NaN</td>\n",
       "      <td>http://www.rottentomatoes.com/m/the_dark_knight/</td>\n",
       "      <td>09 Dec 2008</td>\n",
       "      <td>$533,316,061</td>\n",
       "      <td>Warner Bros. Pictures/Legendary</td>\n",
       "      <td>http://thedarkknight.warnerbros.com/</td>\n",
       "      <td>True</td>\n",
       "    </tr>\n",
       "    <tr>\n",
       "      <th>4</th>\n",
       "      <td>5</td>\n",
       "      <td>12 Angry Men</td>\n",
       "      <td>1957</td>\n",
       "      <td>APPROVED</td>\n",
       "      <td>01 Apr 1957</td>\n",
       "      <td>96 min</td>\n",
       "      <td>Crime, Drama</td>\n",
       "      <td>Sidney Lumet</td>\n",
       "      <td>Reginald Rose (story), Reginald Rose (screenplay)</td>\n",
       "      <td>Martin Balsam, John Fiedler, Lee J. Cobb, E.G....</td>\n",
       "      <td>...</td>\n",
       "      <td>NaN</td>\n",
       "      <td>NaN</td>\n",
       "      <td>NaN</td>\n",
       "      <td>NaN</td>\n",
       "      <td>http://www.rottentomatoes.com/m/1000013-12_ang...</td>\n",
       "      <td>06 Mar 2001</td>\n",
       "      <td>NaN</td>\n",
       "      <td>Criterion Collection</td>\n",
       "      <td>http://www.criterion.com/films/27871-12-angry-men</td>\n",
       "      <td>True</td>\n",
       "    </tr>\n",
       "  </tbody>\n",
       "</table>\n",
       "<p>5 rows × 38 columns</p>\n",
       "</div>"
      ],
      "text/plain": [
       "   Unnamed: 0                     Title  Year     Rated     Released  Runtime  \\\n",
       "0           1  The Shawshank Redemption  1994         R  14 Oct 1994  142 min   \n",
       "1           2             The Godfather  1972         R  24 Mar 1972  175 min   \n",
       "2           3    The Godfather: Part II  1974         R  20 Dec 1974  202 min   \n",
       "3           4           The Dark Knight  2008     PG-13  18 Jul 2008  152 min   \n",
       "4           5              12 Angry Men  1957  APPROVED  01 Apr 1957   96 min   \n",
       "\n",
       "                  Genre              Director  \\\n",
       "0          Crime, Drama        Frank Darabont   \n",
       "1          Crime, Drama  Francis Ford Coppola   \n",
       "2          Crime, Drama  Francis Ford Coppola   \n",
       "3  Action, Crime, Drama     Christopher Nolan   \n",
       "4          Crime, Drama          Sidney Lumet   \n",
       "\n",
       "                                              Writer  \\\n",
       "0  Stephen King (short story \"Rita Hayworth and S...   \n",
       "1  Mario Puzo (screenplay), Francis Ford Coppola ...   \n",
       "2  Francis Ford Coppola (screenplay), Mario Puzo ...   \n",
       "3  Jonathan Nolan (screenplay), Christopher Nolan...   \n",
       "4  Reginald Rose (story), Reginald Rose (screenplay)   \n",
       "\n",
       "                                              Actors  ... tomatoConsensus  \\\n",
       "0  Tim Robbins, Morgan Freeman, Bob Gunton, Willi...  ...             NaN   \n",
       "1  Marlon Brando, Al Pacino, James Caan, Richard ...  ...             NaN   \n",
       "2  Al Pacino, Robert Duvall, Diane Keaton, Robert...  ...             NaN   \n",
       "3  Christian Bale, Heath Ledger, Aaron Eckhart, M...  ...             NaN   \n",
       "4  Martin Balsam, John Fiedler, Lee J. Cobb, E.G....  ...             NaN   \n",
       "\n",
       "  tomatoUserMeter tomatoUserRating tomatoUserReviews  \\\n",
       "0             NaN              NaN               NaN   \n",
       "1             NaN              NaN               NaN   \n",
       "2             NaN              NaN               NaN   \n",
       "3             NaN              NaN               NaN   \n",
       "4             NaN              NaN               NaN   \n",
       "\n",
       "                                           tomatoURL          DVD  \\\n",
       "0  http://www.rottentomatoes.com/m/shawshank_rede...  27 Jan 1998   \n",
       "1         http://www.rottentomatoes.com/m/godfather/  09 Oct 2001   \n",
       "2  http://www.rottentomatoes.com/m/godfather_part...  24 May 2005   \n",
       "3   http://www.rottentomatoes.com/m/the_dark_knight/  09 Dec 2008   \n",
       "4  http://www.rottentomatoes.com/m/1000013-12_ang...  06 Mar 2001   \n",
       "\n",
       "      BoxOffice                       Production  \\\n",
       "0           NaN                Columbia Pictures   \n",
       "1           NaN               Paramount Pictures   \n",
       "2           NaN               Paramount Pictures   \n",
       "3  $533,316,061  Warner Bros. Pictures/Legendary   \n",
       "4           NaN             Criterion Collection   \n",
       "\n",
       "                                             Website Response  \n",
       "0                                                NaN     True  \n",
       "1                        http://www.thegodfather.com     True  \n",
       "2                       http://www.thegodfather.com/     True  \n",
       "3               http://thedarkknight.warnerbros.com/     True  \n",
       "4  http://www.criterion.com/films/27871-12-angry-men     True  \n",
       "\n",
       "[5 rows x 38 columns]"
      ]
     },
     "execution_count": 3,
     "metadata": {},
     "output_type": "execute_result"
    }
   ],
   "source": [
    "# import IMDB_Top250Engmovies2_OMDB_Detailed.csv from our data folder\n",
    "\n",
    "df_topfilms = pd.read_csv('data/zippedData/IMDB_Top250Engmovies2_OMDB_Detailed.csv.gz')\n",
    "display(df_topfilms.info())\n",
    "df_topfilms.head()"
   ]
  },
  {
   "cell_type": "markdown",
   "metadata": {},
   "source": [
    "***"
   ]
  },
  {
   "cell_type": "markdown",
   "metadata": {},
   "source": [
    "## Data Preparation"
   ]
  },
  {
   "cell_type": "markdown",
   "metadata": {},
   "source": [
    "### Clean Up: The Numbers' Film Budgets"
   ]
  },
  {
   "cell_type": "markdown",
   "metadata": {},
   "source": [
    "In this dataframe, we'll take the following actions:\n",
    "1. Remove unnecessary columns `id` and `domestic_gross`\n",
    "2. Clean up our columns containing numbers and prepare them for a mathmatical equation\n",
    "3. Create a new column and store the film's return on investment"
   ]
  },
  {
   "cell_type": "markdown",
   "metadata": {},
   "source": [
    "#### Step One: Remove unnecessary columns"
   ]
  },
  {
   "cell_type": "markdown",
   "metadata": {},
   "source": [
    "Removing unnecessary columns is a key step in cleaning our dataframe for manipulation. Since Microsoft is a truly global company (see locations __[here](https://craft.co/microsoft/locations)__), we'll want to expand our reach beyond domestic so we can drop this column from our analysis. The `id` column also doesn't add value to our analysis."
   ]
  },
  {
   "cell_type": "code",
   "execution_count": 4,
   "metadata": {},
   "outputs": [
    {
     "data": {
      "text/html": [
       "<div>\n",
       "<style scoped>\n",
       "    .dataframe tbody tr th:only-of-type {\n",
       "        vertical-align: middle;\n",
       "    }\n",
       "\n",
       "    .dataframe tbody tr th {\n",
       "        vertical-align: top;\n",
       "    }\n",
       "\n",
       "    .dataframe thead th {\n",
       "        text-align: right;\n",
       "    }\n",
       "</style>\n",
       "<table border=\"1\" class=\"dataframe\">\n",
       "  <thead>\n",
       "    <tr style=\"text-align: right;\">\n",
       "      <th></th>\n",
       "      <th>release_date</th>\n",
       "      <th>movie</th>\n",
       "      <th>production_budget</th>\n",
       "      <th>worldwide_gross</th>\n",
       "    </tr>\n",
       "  </thead>\n",
       "  <tbody>\n",
       "    <tr>\n",
       "      <th>0</th>\n",
       "      <td>Dec 18, 2009</td>\n",
       "      <td>Avatar</td>\n",
       "      <td>$425,000,000</td>\n",
       "      <td>$2,776,345,279</td>\n",
       "    </tr>\n",
       "    <tr>\n",
       "      <th>1</th>\n",
       "      <td>May 20, 2011</td>\n",
       "      <td>Pirates of the Caribbean: On Stranger Tides</td>\n",
       "      <td>$410,600,000</td>\n",
       "      <td>$1,045,663,875</td>\n",
       "    </tr>\n",
       "    <tr>\n",
       "      <th>2</th>\n",
       "      <td>Jun 7, 2019</td>\n",
       "      <td>Dark Phoenix</td>\n",
       "      <td>$350,000,000</td>\n",
       "      <td>$149,762,350</td>\n",
       "    </tr>\n",
       "    <tr>\n",
       "      <th>3</th>\n",
       "      <td>May 1, 2015</td>\n",
       "      <td>Avengers: Age of Ultron</td>\n",
       "      <td>$330,600,000</td>\n",
       "      <td>$1,403,013,963</td>\n",
       "    </tr>\n",
       "    <tr>\n",
       "      <th>4</th>\n",
       "      <td>Dec 15, 2017</td>\n",
       "      <td>Star Wars Ep. VIII: The Last Jedi</td>\n",
       "      <td>$317,000,000</td>\n",
       "      <td>$1,316,721,747</td>\n",
       "    </tr>\n",
       "  </tbody>\n",
       "</table>\n",
       "</div>"
      ],
      "text/plain": [
       "   release_date                                        movie  \\\n",
       "0  Dec 18, 2009                                       Avatar   \n",
       "1  May 20, 2011  Pirates of the Caribbean: On Stranger Tides   \n",
       "2   Jun 7, 2019                                 Dark Phoenix   \n",
       "3   May 1, 2015                      Avengers: Age of Ultron   \n",
       "4  Dec 15, 2017            Star Wars Ep. VIII: The Last Jedi   \n",
       "\n",
       "  production_budget worldwide_gross  \n",
       "0      $425,000,000  $2,776,345,279  \n",
       "1      $410,600,000  $1,045,663,875  \n",
       "2      $350,000,000    $149,762,350  \n",
       "3      $330,600,000  $1,403,013,963  \n",
       "4      $317,000,000  $1,316,721,747  "
      ]
     },
     "execution_count": 4,
     "metadata": {},
     "output_type": "execute_result"
    }
   ],
   "source": [
    "# remove our unnecessary columms, 'id' and 'domestic_gross'\n",
    "\n",
    "df_filmbudgets.drop(['id', 'domestic_gross'], axis=1, inplace=True)\n",
    "df_filmbudgets.head()"
   ]
  },
  {
   "cell_type": "markdown",
   "metadata": {},
   "source": [
    "#### Step 2: Clean up our numeric columns"
   ]
  },
  {
   "cell_type": "markdown",
   "metadata": {},
   "source": [
    "Understanding return on investment will help Microsoft understand which films were most profitable so we can dig further into the attributes that contributed to the film's success. We can use `production_budget` and `worldwide_gross` to gauge the resulting ROI that a studio had with that particular film. In order to gauge ROI, we'll first want to understand and prepare those numeric columns to be used in a mathmatical equation."
   ]
  },
  {
   "cell_type": "code",
   "execution_count": 5,
   "metadata": {},
   "outputs": [],
   "source": [
    "# create function to look under the hood, better understand our numeric columns, and test assumptions\n",
    "\n",
    "def clarify_column(df, columns):\n",
    "    print(type(df[columns][0]), '\\n\\n', df[columns].describe(), '\\n\\n', df[columns].value_counts())"
   ]
  },
  {
   "cell_type": "code",
   "execution_count": 6,
   "metadata": {},
   "outputs": [
    {
     "name": "stdout",
     "output_type": "stream",
     "text": [
      "<class 'str'> \n",
      "\n",
      " count            5782\n",
      "unique            509\n",
      "top       $20,000,000\n",
      "freq              231\n",
      "Name: production_budget, dtype: object \n",
      "\n",
      " $20,000,000     231\n",
      "$10,000,000     212\n",
      "$30,000,000     177\n",
      "$15,000,000     173\n",
      "$25,000,000     171\n",
      "               ... \n",
      "$28,700,000       1\n",
      "$18,900,000       1\n",
      "$930,000          1\n",
      "$330,600,000      1\n",
      "$144,000,000      1\n",
      "Name: production_budget, Length: 509, dtype: int64\n"
     ]
    }
   ],
   "source": [
    "clarify_column(df_filmbudgets,'production_budget')"
   ]
  },
  {
   "cell_type": "code",
   "execution_count": 7,
   "metadata": {},
   "outputs": [
    {
     "name": "stdout",
     "output_type": "stream",
     "text": [
      "<class 'str'> \n",
      "\n",
      " count     5782\n",
      "unique    5356\n",
      "top         $0\n",
      "freq       367\n",
      "Name: worldwide_gross, dtype: object \n",
      "\n",
      " $0                367\n",
      "$8,000,000          9\n",
      "$7,000,000          6\n",
      "$2,000,000          6\n",
      "$11,000,000         4\n",
      "                 ... \n",
      "$23,471,871         1\n",
      "$1,788,324          1\n",
      "$1,034,727,750      1\n",
      "$4,315,789          1\n",
      "$198,883            1\n",
      "Name: worldwide_gross, Length: 5356, dtype: int64\n"
     ]
    }
   ],
   "source": [
    "clarify_column(df_filmbudgets,'worldwide_gross')"
   ]
  },
  {
   "cell_type": "markdown",
   "metadata": {},
   "source": [
    "***\n",
    "These results affirm that both columns contain string type values. We can also see that budgets are lumped into rounded categories. I initially questioned if the most frequent value in `production_budget`, twenty million, could be a placeholder, but our value counts show a similar frequency with other larger scale budgets. This info, coupled with the fact the most frequent value still holds only four percent of our data tells me we don't need to delete these rows.\n",
    "\n",
    "We do, however, see there is a placeholder value in the `worldwide_gross` column because zero is present over three hundred times and is also likely impossible with a film release. Let's go a step further and isolate a few of these rows to affirm.\n",
    "***"
   ]
  },
  {
   "cell_type": "code",
   "execution_count": 8,
   "metadata": {},
   "outputs": [
    {
     "data": {
      "text/html": [
       "<div>\n",
       "<style scoped>\n",
       "    .dataframe tbody tr th:only-of-type {\n",
       "        vertical-align: middle;\n",
       "    }\n",
       "\n",
       "    .dataframe tbody tr th {\n",
       "        vertical-align: top;\n",
       "    }\n",
       "\n",
       "    .dataframe thead th {\n",
       "        text-align: right;\n",
       "    }\n",
       "</style>\n",
       "<table border=\"1\" class=\"dataframe\">\n",
       "  <thead>\n",
       "    <tr style=\"text-align: right;\">\n",
       "      <th></th>\n",
       "      <th>release_date</th>\n",
       "      <th>movie</th>\n",
       "      <th>production_budget</th>\n",
       "      <th>worldwide_gross</th>\n",
       "    </tr>\n",
       "  </thead>\n",
       "  <tbody>\n",
       "    <tr>\n",
       "      <th>194</th>\n",
       "      <td>Dec 31, 2020</td>\n",
       "      <td>Moonfall</td>\n",
       "      <td>$150,000,000</td>\n",
       "      <td>$0</td>\n",
       "    </tr>\n",
       "    <tr>\n",
       "      <th>479</th>\n",
       "      <td>Dec 13, 2017</td>\n",
       "      <td>Bright</td>\n",
       "      <td>$90,000,000</td>\n",
       "      <td>$0</td>\n",
       "    </tr>\n",
       "    <tr>\n",
       "      <th>480</th>\n",
       "      <td>Dec 31, 2019</td>\n",
       "      <td>Army of the Dead</td>\n",
       "      <td>$90,000,000</td>\n",
       "      <td>$0</td>\n",
       "    </tr>\n",
       "    <tr>\n",
       "      <th>535</th>\n",
       "      <td>Feb 21, 2020</td>\n",
       "      <td>Call of the Wild</td>\n",
       "      <td>$82,000,000</td>\n",
       "      <td>$0</td>\n",
       "    </tr>\n",
       "    <tr>\n",
       "      <th>670</th>\n",
       "      <td>Aug 30, 2019</td>\n",
       "      <td>PLAYMOBIL</td>\n",
       "      <td>$75,000,000</td>\n",
       "      <td>$0</td>\n",
       "    </tr>\n",
       "    <tr>\n",
       "      <th>...</th>\n",
       "      <td>...</td>\n",
       "      <td>...</td>\n",
       "      <td>...</td>\n",
       "      <td>...</td>\n",
       "    </tr>\n",
       "    <tr>\n",
       "      <th>5761</th>\n",
       "      <td>Dec 31, 2014</td>\n",
       "      <td>Stories of Our Lives</td>\n",
       "      <td>$15,000</td>\n",
       "      <td>$0</td>\n",
       "    </tr>\n",
       "    <tr>\n",
       "      <th>5764</th>\n",
       "      <td>Dec 31, 2007</td>\n",
       "      <td>Tin Can Man</td>\n",
       "      <td>$12,000</td>\n",
       "      <td>$0</td>\n",
       "    </tr>\n",
       "    <tr>\n",
       "      <th>5771</th>\n",
       "      <td>May 19, 2015</td>\n",
       "      <td>Family Motocross</td>\n",
       "      <td>$10,000</td>\n",
       "      <td>$0</td>\n",
       "    </tr>\n",
       "    <tr>\n",
       "      <th>5777</th>\n",
       "      <td>Dec 31, 2018</td>\n",
       "      <td>Red 11</td>\n",
       "      <td>$7,000</td>\n",
       "      <td>$0</td>\n",
       "    </tr>\n",
       "    <tr>\n",
       "      <th>5780</th>\n",
       "      <td>Sep 29, 2015</td>\n",
       "      <td>A Plague So Pleasant</td>\n",
       "      <td>$1,400</td>\n",
       "      <td>$0</td>\n",
       "    </tr>\n",
       "  </tbody>\n",
       "</table>\n",
       "<p>367 rows × 4 columns</p>\n",
       "</div>"
      ],
      "text/plain": [
       "      release_date                 movie production_budget worldwide_gross\n",
       "194   Dec 31, 2020              Moonfall      $150,000,000              $0\n",
       "479   Dec 13, 2017                Bright       $90,000,000              $0\n",
       "480   Dec 31, 2019      Army of the Dead       $90,000,000              $0\n",
       "535   Feb 21, 2020      Call of the Wild       $82,000,000              $0\n",
       "670   Aug 30, 2019             PLAYMOBIL       $75,000,000              $0\n",
       "...            ...                   ...               ...             ...\n",
       "5761  Dec 31, 2014  Stories of Our Lives           $15,000              $0\n",
       "5764  Dec 31, 2007           Tin Can Man           $12,000              $0\n",
       "5771  May 19, 2015      Family Motocross           $10,000              $0\n",
       "5777  Dec 31, 2018                Red 11            $7,000              $0\n",
       "5780  Sep 29, 2015  A Plague So Pleasant            $1,400              $0\n",
       "\n",
       "[367 rows x 4 columns]"
      ]
     },
     "execution_count": 8,
     "metadata": {},
     "output_type": "execute_result"
    }
   ],
   "source": [
    "# isolate rows to analyze why the `worldwide_gross` value is $0\n",
    "\n",
    "df_filmbudgets.loc[df_filmbudgets['worldwide_gross'] == '$0']"
   ]
  },
  {
   "cell_type": "markdown",
   "metadata": {},
   "source": [
    "***\n",
    "We've isolated our rows and see a range of potential reasons for this placeholder data - from newer releases (where these numbers are likely not in yet) to older films with a much smaller release where the numbers likely haven't been recorded. Since these results contain a very small percentage of our dataset and don't seem especially relevant to our analysis, they arguably won't be missed and can be dropped.\n",
    "***"
   ]
  },
  {
   "cell_type": "code",
   "execution_count": 9,
   "metadata": {},
   "outputs": [
    {
     "data": {
      "text/html": [
       "<div>\n",
       "<style scoped>\n",
       "    .dataframe tbody tr th:only-of-type {\n",
       "        vertical-align: middle;\n",
       "    }\n",
       "\n",
       "    .dataframe tbody tr th {\n",
       "        vertical-align: top;\n",
       "    }\n",
       "\n",
       "    .dataframe thead th {\n",
       "        text-align: right;\n",
       "    }\n",
       "</style>\n",
       "<table border=\"1\" class=\"dataframe\">\n",
       "  <thead>\n",
       "    <tr style=\"text-align: right;\">\n",
       "      <th></th>\n",
       "      <th>release_date</th>\n",
       "      <th>movie</th>\n",
       "      <th>production_budget</th>\n",
       "      <th>worldwide_gross</th>\n",
       "    </tr>\n",
       "  </thead>\n",
       "  <tbody>\n",
       "    <tr>\n",
       "      <th>0</th>\n",
       "      <td>Dec 18, 2009</td>\n",
       "      <td>Avatar</td>\n",
       "      <td>$425,000,000</td>\n",
       "      <td>$2,776,345,279</td>\n",
       "    </tr>\n",
       "    <tr>\n",
       "      <th>1</th>\n",
       "      <td>May 20, 2011</td>\n",
       "      <td>Pirates of the Caribbean: On Stranger Tides</td>\n",
       "      <td>$410,600,000</td>\n",
       "      <td>$1,045,663,875</td>\n",
       "    </tr>\n",
       "    <tr>\n",
       "      <th>2</th>\n",
       "      <td>Jun 7, 2019</td>\n",
       "      <td>Dark Phoenix</td>\n",
       "      <td>$350,000,000</td>\n",
       "      <td>$149,762,350</td>\n",
       "    </tr>\n",
       "    <tr>\n",
       "      <th>3</th>\n",
       "      <td>May 1, 2015</td>\n",
       "      <td>Avengers: Age of Ultron</td>\n",
       "      <td>$330,600,000</td>\n",
       "      <td>$1,403,013,963</td>\n",
       "    </tr>\n",
       "    <tr>\n",
       "      <th>4</th>\n",
       "      <td>Dec 15, 2017</td>\n",
       "      <td>Star Wars Ep. VIII: The Last Jedi</td>\n",
       "      <td>$317,000,000</td>\n",
       "      <td>$1,316,721,747</td>\n",
       "    </tr>\n",
       "    <tr>\n",
       "      <th>...</th>\n",
       "      <td>...</td>\n",
       "      <td>...</td>\n",
       "      <td>...</td>\n",
       "      <td>...</td>\n",
       "    </tr>\n",
       "    <tr>\n",
       "      <th>5775</th>\n",
       "      <td>May 26, 2006</td>\n",
       "      <td>Cavite</td>\n",
       "      <td>$7,000</td>\n",
       "      <td>$71,644</td>\n",
       "    </tr>\n",
       "    <tr>\n",
       "      <th>5776</th>\n",
       "      <td>Dec 31, 2004</td>\n",
       "      <td>The Mongol King</td>\n",
       "      <td>$7,000</td>\n",
       "      <td>$900</td>\n",
       "    </tr>\n",
       "    <tr>\n",
       "      <th>5778</th>\n",
       "      <td>Apr 2, 1999</td>\n",
       "      <td>Following</td>\n",
       "      <td>$6,000</td>\n",
       "      <td>$240,495</td>\n",
       "    </tr>\n",
       "    <tr>\n",
       "      <th>5779</th>\n",
       "      <td>Jul 13, 2005</td>\n",
       "      <td>Return to the Land of Wonders</td>\n",
       "      <td>$5,000</td>\n",
       "      <td>$1,338</td>\n",
       "    </tr>\n",
       "    <tr>\n",
       "      <th>5781</th>\n",
       "      <td>Aug 5, 2005</td>\n",
       "      <td>My Date With Drew</td>\n",
       "      <td>$1,100</td>\n",
       "      <td>$181,041</td>\n",
       "    </tr>\n",
       "  </tbody>\n",
       "</table>\n",
       "<p>5415 rows × 4 columns</p>\n",
       "</div>"
      ],
      "text/plain": [
       "      release_date                                        movie  \\\n",
       "0     Dec 18, 2009                                       Avatar   \n",
       "1     May 20, 2011  Pirates of the Caribbean: On Stranger Tides   \n",
       "2      Jun 7, 2019                                 Dark Phoenix   \n",
       "3      May 1, 2015                      Avengers: Age of Ultron   \n",
       "4     Dec 15, 2017            Star Wars Ep. VIII: The Last Jedi   \n",
       "...            ...                                          ...   \n",
       "5775  May 26, 2006                                       Cavite   \n",
       "5776  Dec 31, 2004                              The Mongol King   \n",
       "5778   Apr 2, 1999                                    Following   \n",
       "5779  Jul 13, 2005                Return to the Land of Wonders   \n",
       "5781   Aug 5, 2005                            My Date With Drew   \n",
       "\n",
       "     production_budget worldwide_gross  \n",
       "0         $425,000,000  $2,776,345,279  \n",
       "1         $410,600,000  $1,045,663,875  \n",
       "2         $350,000,000    $149,762,350  \n",
       "3         $330,600,000  $1,403,013,963  \n",
       "4         $317,000,000  $1,316,721,747  \n",
       "...                ...             ...  \n",
       "5775            $7,000         $71,644  \n",
       "5776            $7,000            $900  \n",
       "5778            $6,000        $240,495  \n",
       "5779            $5,000          $1,338  \n",
       "5781            $1,100        $181,041  \n",
       "\n",
       "[5415 rows x 4 columns]"
      ]
     },
     "execution_count": 9,
     "metadata": {},
     "output_type": "execute_result"
    }
   ],
   "source": [
    "# drop all rows with placeholder zero in the 'worldwide_gross' column\n",
    "\n",
    "df_filmbudgets.drop(df_filmbudgets[df_filmbudgets['worldwide_gross'] == '$0'].index)"
   ]
  },
  {
   "cell_type": "markdown",
   "metadata": {},
   "source": [
    "***\n",
    "Now, let's prepare these columns for an equation.\n",
    "***"
   ]
  },
  {
   "cell_type": "code",
   "execution_count": 10,
   "metadata": {},
   "outputs": [
    {
     "data": {
      "text/html": [
       "<div>\n",
       "<style scoped>\n",
       "    .dataframe tbody tr th:only-of-type {\n",
       "        vertical-align: middle;\n",
       "    }\n",
       "\n",
       "    .dataframe tbody tr th {\n",
       "        vertical-align: top;\n",
       "    }\n",
       "\n",
       "    .dataframe thead th {\n",
       "        text-align: right;\n",
       "    }\n",
       "</style>\n",
       "<table border=\"1\" class=\"dataframe\">\n",
       "  <thead>\n",
       "    <tr style=\"text-align: right;\">\n",
       "      <th></th>\n",
       "      <th>release_date</th>\n",
       "      <th>movie</th>\n",
       "      <th>production_budget</th>\n",
       "      <th>worldwide_gross</th>\n",
       "    </tr>\n",
       "  </thead>\n",
       "  <tbody>\n",
       "    <tr>\n",
       "      <th>0</th>\n",
       "      <td>Dec 18, 2009</td>\n",
       "      <td>Avatar</td>\n",
       "      <td>425000000</td>\n",
       "      <td>2776345279</td>\n",
       "    </tr>\n",
       "    <tr>\n",
       "      <th>1</th>\n",
       "      <td>May 20, 2011</td>\n",
       "      <td>Pirates of the Caribbean: On Stranger Tides</td>\n",
       "      <td>410600000</td>\n",
       "      <td>1045663875</td>\n",
       "    </tr>\n",
       "    <tr>\n",
       "      <th>2</th>\n",
       "      <td>Jun 7, 2019</td>\n",
       "      <td>Dark Phoenix</td>\n",
       "      <td>350000000</td>\n",
       "      <td>149762350</td>\n",
       "    </tr>\n",
       "    <tr>\n",
       "      <th>3</th>\n",
       "      <td>May 1, 2015</td>\n",
       "      <td>Avengers: Age of Ultron</td>\n",
       "      <td>330600000</td>\n",
       "      <td>1403013963</td>\n",
       "    </tr>\n",
       "    <tr>\n",
       "      <th>4</th>\n",
       "      <td>Dec 15, 2017</td>\n",
       "      <td>Star Wars Ep. VIII: The Last Jedi</td>\n",
       "      <td>317000000</td>\n",
       "      <td>1316721747</td>\n",
       "    </tr>\n",
       "  </tbody>\n",
       "</table>\n",
       "</div>"
      ],
      "text/plain": [
       "   release_date                                        movie  \\\n",
       "0  Dec 18, 2009                                       Avatar   \n",
       "1  May 20, 2011  Pirates of the Caribbean: On Stranger Tides   \n",
       "2   Jun 7, 2019                                 Dark Phoenix   \n",
       "3   May 1, 2015                      Avengers: Age of Ultron   \n",
       "4  Dec 15, 2017            Star Wars Ep. VIII: The Last Jedi   \n",
       "\n",
       "   production_budget  worldwide_gross  \n",
       "0          425000000       2776345279  \n",
       "1          410600000       1045663875  \n",
       "2          350000000        149762350  \n",
       "3          330600000       1403013963  \n",
       "4          317000000       1316721747  "
      ]
     },
     "execution_count": 10,
     "metadata": {},
     "output_type": "execute_result"
    }
   ],
   "source": [
    "# convert the column values from strings to integers\n",
    "\n",
    "def numbers_cleanup(df, column):\n",
    "    df[column] = df[column].apply(lambda x: x.strip('$').replace(',',''))\n",
    "    df[column] = df[column].astype(int)\n",
    "    \n",
    "numbers_cleanup(df_filmbudgets, 'production_budget')\n",
    "numbers_cleanup(df_filmbudgets, 'worldwide_gross')\n",
    "df_filmbudgets.head()"
   ]
  },
  {
   "cell_type": "markdown",
   "metadata": {},
   "source": [
    "#### Step 3: Create a new ROI column"
   ]
  },
  {
   "cell_type": "markdown",
   "metadata": {},
   "source": [
    "By identifying the ROI for each of these films, we'll give Microsoft greater visibility into a film's profit margins. This will set expectations, help the team develop a suitable budget, and allow us to further identify which attributes make for a successful film."
   ]
  },
  {
   "cell_type": "code",
   "execution_count": 11,
   "metadata": {},
   "outputs": [
    {
     "name": "stdout",
     "output_type": "stream",
     "text": [
      "<class 'numpy.float64'> \n",
      "\n",
      " count      5782.000000\n",
      "mean        480.016137\n",
      "std        2953.028231\n",
      "min           0.000000\n",
      "25%          49.229560\n",
      "50%         170.830983\n",
      "75%         375.834608\n",
      "max      180000.000000\n",
      "Name: worldwide_roi, dtype: float64 \n",
      "\n",
      " 0.000000      367\n",
      "600.000000      3\n",
      "900.000000      3\n",
      "360.000000      3\n",
      "583.333333      2\n",
      "             ... \n",
      "258.102140      1\n",
      "206.919236      1\n",
      "87.883324       1\n",
      "26.793553       1\n",
      "148.422773      1\n",
      "Name: worldwide_roi, Length: 5400, dtype: int64\n"
     ]
    },
    {
     "data": {
      "text/plain": [
       "None"
      ]
     },
     "metadata": {},
     "output_type": "display_data"
    },
    {
     "data": {
      "text/html": [
       "<div>\n",
       "<style scoped>\n",
       "    .dataframe tbody tr th:only-of-type {\n",
       "        vertical-align: middle;\n",
       "    }\n",
       "\n",
       "    .dataframe tbody tr th {\n",
       "        vertical-align: top;\n",
       "    }\n",
       "\n",
       "    .dataframe thead th {\n",
       "        text-align: right;\n",
       "    }\n",
       "</style>\n",
       "<table border=\"1\" class=\"dataframe\">\n",
       "  <thead>\n",
       "    <tr style=\"text-align: right;\">\n",
       "      <th></th>\n",
       "      <th>release_date</th>\n",
       "      <th>movie</th>\n",
       "      <th>production_budget</th>\n",
       "      <th>worldwide_gross</th>\n",
       "      <th>worldwide_roi</th>\n",
       "    </tr>\n",
       "  </thead>\n",
       "  <tbody>\n",
       "    <tr>\n",
       "      <th>0</th>\n",
       "      <td>Dec 18, 2009</td>\n",
       "      <td>Avatar</td>\n",
       "      <td>425000000</td>\n",
       "      <td>2776345279</td>\n",
       "      <td>653.257713</td>\n",
       "    </tr>\n",
       "    <tr>\n",
       "      <th>1</th>\n",
       "      <td>May 20, 2011</td>\n",
       "      <td>Pirates of the Caribbean: On Stranger Tides</td>\n",
       "      <td>410600000</td>\n",
       "      <td>1045663875</td>\n",
       "      <td>254.667286</td>\n",
       "    </tr>\n",
       "    <tr>\n",
       "      <th>2</th>\n",
       "      <td>Jun 7, 2019</td>\n",
       "      <td>Dark Phoenix</td>\n",
       "      <td>350000000</td>\n",
       "      <td>149762350</td>\n",
       "      <td>42.789243</td>\n",
       "    </tr>\n",
       "    <tr>\n",
       "      <th>3</th>\n",
       "      <td>May 1, 2015</td>\n",
       "      <td>Avengers: Age of Ultron</td>\n",
       "      <td>330600000</td>\n",
       "      <td>1403013963</td>\n",
       "      <td>424.384139</td>\n",
       "    </tr>\n",
       "    <tr>\n",
       "      <th>4</th>\n",
       "      <td>Dec 15, 2017</td>\n",
       "      <td>Star Wars Ep. VIII: The Last Jedi</td>\n",
       "      <td>317000000</td>\n",
       "      <td>1316721747</td>\n",
       "      <td>415.369636</td>\n",
       "    </tr>\n",
       "  </tbody>\n",
       "</table>\n",
       "</div>"
      ],
      "text/plain": [
       "   release_date                                        movie  \\\n",
       "0  Dec 18, 2009                                       Avatar   \n",
       "1  May 20, 2011  Pirates of the Caribbean: On Stranger Tides   \n",
       "2   Jun 7, 2019                                 Dark Phoenix   \n",
       "3   May 1, 2015                      Avengers: Age of Ultron   \n",
       "4  Dec 15, 2017            Star Wars Ep. VIII: The Last Jedi   \n",
       "\n",
       "   production_budget  worldwide_gross  worldwide_roi  \n",
       "0          425000000       2776345279     653.257713  \n",
       "1          410600000       1045663875     254.667286  \n",
       "2          350000000        149762350      42.789243  \n",
       "3          330600000       1403013963     424.384139  \n",
       "4          317000000       1316721747     415.369636  "
      ]
     },
     "execution_count": 11,
     "metadata": {},
     "output_type": "execute_result"
    }
   ],
   "source": [
    "# create new column and input the results of our ROI calculation\n",
    "\n",
    "df_filmbudgets['worldwide_roi'] = df_filmbudgets['worldwide_gross']\\\n",
    "                                  / df_filmbudgets['production_budget'] * 100\n",
    "\n",
    "# preview our results\n",
    "\n",
    "display(clarify_column(df_filmbudgets,'worldwide_roi'))\n",
    "df_filmbudgets.head()"
   ]
  },
  {
   "cell_type": "markdown",
   "metadata": {},
   "source": [
    "***"
   ]
  },
  {
   "cell_type": "markdown",
   "metadata": {},
   "source": [
    "### Clean Up: IMDB's Top 250 Films"
   ]
  },
  {
   "cell_type": "markdown",
   "metadata": {},
   "source": [
    "In this dataframe, we'll take the following actions:\n",
    "1. Remove thirty unnecessary columns\n",
    "2. Clean up missing values\n",
    "3. Separate column values with multiple elements and place them into a new dataframe\n",
    "4. Add the separated film genre dataframe into our dataset"
   ]
  },
  {
   "cell_type": "markdown",
   "metadata": {},
   "source": [
    "#### Step One: Drop unnecessary columns"
   ]
  },
  {
   "cell_type": "markdown",
   "metadata": {},
   "source": [
    "Removing unnecessary columns is a key step in cleaning our dataframe for manipulation. There are plenty of columns ranging from the film plot to the film's website that won't be used in our analysis. The `Unnamed: 0` column also doesn't add value to our analysis."
   ]
  },
  {
   "cell_type": "code",
   "execution_count": 12,
   "metadata": {},
   "outputs": [
    {
     "data": {
      "text/plain": [
       "30"
      ]
     },
     "execution_count": 12,
     "metadata": {},
     "output_type": "execute_result"
    }
   ],
   "source": [
    "# identify and record the index of unncecessary columns\n",
    "\n",
    "columns_todelete = list(range(10,35))\n",
    "columns_todelete.extend([0, 36, 37, 4, 5])\n",
    "len(columns_todelete)"
   ]
  },
  {
   "cell_type": "code",
   "execution_count": 13,
   "metadata": {},
   "outputs": [
    {
     "data": {
      "text/html": [
       "<div>\n",
       "<style scoped>\n",
       "    .dataframe tbody tr th:only-of-type {\n",
       "        vertical-align: middle;\n",
       "    }\n",
       "\n",
       "    .dataframe tbody tr th {\n",
       "        vertical-align: top;\n",
       "    }\n",
       "\n",
       "    .dataframe thead th {\n",
       "        text-align: right;\n",
       "    }\n",
       "</style>\n",
       "<table border=\"1\" class=\"dataframe\">\n",
       "  <thead>\n",
       "    <tr style=\"text-align: right;\">\n",
       "      <th></th>\n",
       "      <th>Title</th>\n",
       "      <th>Year</th>\n",
       "      <th>Rated</th>\n",
       "      <th>Genre</th>\n",
       "      <th>Director</th>\n",
       "      <th>Writer</th>\n",
       "      <th>Actors</th>\n",
       "      <th>Production</th>\n",
       "    </tr>\n",
       "  </thead>\n",
       "  <tbody>\n",
       "    <tr>\n",
       "      <th>0</th>\n",
       "      <td>The Shawshank Redemption</td>\n",
       "      <td>1994</td>\n",
       "      <td>R</td>\n",
       "      <td>Crime, Drama</td>\n",
       "      <td>Frank Darabont</td>\n",
       "      <td>Stephen King (short story \"Rita Hayworth and S...</td>\n",
       "      <td>Tim Robbins, Morgan Freeman, Bob Gunton, Willi...</td>\n",
       "      <td>Columbia Pictures</td>\n",
       "    </tr>\n",
       "    <tr>\n",
       "      <th>1</th>\n",
       "      <td>The Godfather</td>\n",
       "      <td>1972</td>\n",
       "      <td>R</td>\n",
       "      <td>Crime, Drama</td>\n",
       "      <td>Francis Ford Coppola</td>\n",
       "      <td>Mario Puzo (screenplay), Francis Ford Coppola ...</td>\n",
       "      <td>Marlon Brando, Al Pacino, James Caan, Richard ...</td>\n",
       "      <td>Paramount Pictures</td>\n",
       "    </tr>\n",
       "    <tr>\n",
       "      <th>2</th>\n",
       "      <td>The Godfather: Part II</td>\n",
       "      <td>1974</td>\n",
       "      <td>R</td>\n",
       "      <td>Crime, Drama</td>\n",
       "      <td>Francis Ford Coppola</td>\n",
       "      <td>Francis Ford Coppola (screenplay), Mario Puzo ...</td>\n",
       "      <td>Al Pacino, Robert Duvall, Diane Keaton, Robert...</td>\n",
       "      <td>Paramount Pictures</td>\n",
       "    </tr>\n",
       "    <tr>\n",
       "      <th>3</th>\n",
       "      <td>The Dark Knight</td>\n",
       "      <td>2008</td>\n",
       "      <td>PG-13</td>\n",
       "      <td>Action, Crime, Drama</td>\n",
       "      <td>Christopher Nolan</td>\n",
       "      <td>Jonathan Nolan (screenplay), Christopher Nolan...</td>\n",
       "      <td>Christian Bale, Heath Ledger, Aaron Eckhart, M...</td>\n",
       "      <td>Warner Bros. Pictures/Legendary</td>\n",
       "    </tr>\n",
       "    <tr>\n",
       "      <th>4</th>\n",
       "      <td>12 Angry Men</td>\n",
       "      <td>1957</td>\n",
       "      <td>APPROVED</td>\n",
       "      <td>Crime, Drama</td>\n",
       "      <td>Sidney Lumet</td>\n",
       "      <td>Reginald Rose (story), Reginald Rose (screenplay)</td>\n",
       "      <td>Martin Balsam, John Fiedler, Lee J. Cobb, E.G....</td>\n",
       "      <td>Criterion Collection</td>\n",
       "    </tr>\n",
       "  </tbody>\n",
       "</table>\n",
       "</div>"
      ],
      "text/plain": [
       "                      Title  Year     Rated                 Genre  \\\n",
       "0  The Shawshank Redemption  1994         R          Crime, Drama   \n",
       "1             The Godfather  1972         R          Crime, Drama   \n",
       "2    The Godfather: Part II  1974         R          Crime, Drama   \n",
       "3           The Dark Knight  2008     PG-13  Action, Crime, Drama   \n",
       "4              12 Angry Men  1957  APPROVED          Crime, Drama   \n",
       "\n",
       "               Director                                             Writer  \\\n",
       "0        Frank Darabont  Stephen King (short story \"Rita Hayworth and S...   \n",
       "1  Francis Ford Coppola  Mario Puzo (screenplay), Francis Ford Coppola ...   \n",
       "2  Francis Ford Coppola  Francis Ford Coppola (screenplay), Mario Puzo ...   \n",
       "3     Christopher Nolan  Jonathan Nolan (screenplay), Christopher Nolan...   \n",
       "4          Sidney Lumet  Reginald Rose (story), Reginald Rose (screenplay)   \n",
       "\n",
       "                                              Actors  \\\n",
       "0  Tim Robbins, Morgan Freeman, Bob Gunton, Willi...   \n",
       "1  Marlon Brando, Al Pacino, James Caan, Richard ...   \n",
       "2  Al Pacino, Robert Duvall, Diane Keaton, Robert...   \n",
       "3  Christian Bale, Heath Ledger, Aaron Eckhart, M...   \n",
       "4  Martin Balsam, John Fiedler, Lee J. Cobb, E.G....   \n",
       "\n",
       "                        Production  \n",
       "0                Columbia Pictures  \n",
       "1               Paramount Pictures  \n",
       "2               Paramount Pictures  \n",
       "3  Warner Bros. Pictures/Legendary  \n",
       "4             Criterion Collection  "
      ]
     },
     "execution_count": 13,
     "metadata": {},
     "output_type": "execute_result"
    }
   ],
   "source": [
    "# delete unncecessary columns from dataframe\n",
    "\n",
    "df_topfilms.drop(df_topfilms.columns[(columns_todelete)], axis=1, inplace = True)\n",
    "df_topfilms.head()"
   ]
  },
  {
   "cell_type": "markdown",
   "metadata": {},
   "source": [
    "#### Step Two: Clean up missing values"
   ]
  },
  {
   "cell_type": "markdown",
   "metadata": {},
   "source": [
    "Unless we deal with the missing values in a dataframe, our data manipulation techniques and future modeling could prove faulty and incorrect."
   ]
  },
  {
   "cell_type": "code",
   "execution_count": 14,
   "metadata": {},
   "outputs": [
    {
     "name": "stdout",
     "output_type": "stream",
     "text": [
      "<class 'pandas.core.frame.DataFrame'>\n",
      "RangeIndex: 250 entries, 0 to 249\n",
      "Data columns (total 8 columns):\n",
      " #   Column      Non-Null Count  Dtype \n",
      "---  ------      --------------  ----- \n",
      " 0   Title       250 non-null    object\n",
      " 1   Year        250 non-null    int64 \n",
      " 2   Rated       250 non-null    object\n",
      " 3   Genre       250 non-null    object\n",
      " 4   Director    250 non-null    object\n",
      " 5   Writer      249 non-null    object\n",
      " 6   Actors      250 non-null    object\n",
      " 7   Production  250 non-null    object\n",
      "dtypes: int64(1), object(7)\n",
      "memory usage: 15.8+ KB\n"
     ]
    }
   ],
   "source": [
    "# identify where null values remain\n",
    "\n",
    "df_topfilms.info()"
   ]
  },
  {
   "cell_type": "markdown",
   "metadata": {},
   "source": [
    "***\n",
    "The only column that has a missing value now is `Writer`. Since we'll be gauging the frequency of storytellers within a smaller subset of films, let's identify and decide if we'd like to replace the value.\n",
    "***"
   ]
  },
  {
   "cell_type": "code",
   "execution_count": 15,
   "metadata": {},
   "outputs": [
    {
     "data": {
      "text/plain": [
       "150    False\n",
       "151    False\n",
       "152    False\n",
       "153    False\n",
       "154     True\n",
       "155    False\n",
       "156    False\n",
       "157    False\n",
       "158    False\n",
       "159    False\n",
       "Name: Writer, dtype: bool"
      ]
     },
     "metadata": {},
     "output_type": "display_data"
    },
    {
     "data": {
      "text/plain": [
       "Title                                           Brief Encounter\n",
       "Year                                                       1945\n",
       "Rated                                                 NOT RATED\n",
       "Genre                                            Drama, Romance\n",
       "Director                                             David Lean\n",
       "Writer                                                      NaN\n",
       "Actors        Celia Johnson, Trevor Howard, Stanley Holloway...\n",
       "Production                                   Universal Pictures\n",
       "Name: 154, dtype: object"
      ]
     },
     "execution_count": 15,
     "metadata": {},
     "output_type": "execute_result"
    }
   ],
   "source": [
    "# isolate the null value to make informed decision on next steps\n",
    "\n",
    "# stop allowing truncation and view the entire columns results\n",
    "pd.options.display.max_rows = 250\n",
    "df_topfilms.Writer\n",
    "\n",
    "# isolate the row's contents to gauge context\n",
    "display(df_topfilms.Writer[150:160].isna())\n",
    "df_topfilms.iloc[154]"
   ]
  },
  {
   "cell_type": "markdown",
   "metadata": {},
   "source": [
    "***\n",
    "The director in this row is particularly prevalent in the dataset and could show on the ranked short list of talented storytellers. Because of this, I'd like to guarantee accuracy by keeping this row and inputting a placeholder. \n",
    "***"
   ]
  },
  {
   "cell_type": "code",
   "execution_count": 16,
   "metadata": {},
   "outputs": [],
   "source": [
    "# replace singular null value in 'Writer' column with identifiable string placeholder\n",
    "\n",
    "df_topfilms.Writer.fillna('No information', inplace=True)"
   ]
  },
  {
   "cell_type": "markdown",
   "metadata": {},
   "source": [
    "***\n",
    "In order to gauge additional findings in this dataset that could prove valuable - it's worth examining a few more columns in depth.\n",
    "***"
   ]
  },
  {
   "cell_type": "code",
   "execution_count": 17,
   "metadata": {},
   "outputs": [
    {
     "data": {
      "text/plain": [
       "(numpy.int64, count     250.000000\n",
       " mean     1982.676000\n",
       " std        24.809212\n",
       " min      1921.000000\n",
       " 25%      1961.250000\n",
       " 50%      1988.000000\n",
       " 75%      2003.000000\n",
       " max      2017.000000\n",
       " Name: Year, dtype: float64, 1995    8\n",
       " 2015    7\n",
       " 2014    7\n",
       " 1999    7\n",
       " 1998    6\n",
       " 2003    6\n",
       " 1975    5\n",
       " 1962    5\n",
       " 1993    5\n",
       " 2016    5\n",
       " 1959    5\n",
       " 2010    5\n",
       " 1940    5\n",
       " 2013    5\n",
       " 1994    5\n",
       " 1957    4\n",
       " 1976    4\n",
       " 1980    4\n",
       " 1982    4\n",
       " 1984    4\n",
       " 1991    4\n",
       " 1946    4\n",
       " 2017    4\n",
       " 2007    4\n",
       " 2009    4\n",
       " 2000    4\n",
       " 2004    4\n",
       " 2008    4\n",
       " 2001    4\n",
       " 1974    3\n",
       " 1973    3\n",
       " 1958    3\n",
       " 1954    3\n",
       " 2005    3\n",
       " 1950    3\n",
       " 2011    3\n",
       " 1944    3\n",
       " 2012    3\n",
       " 1939    3\n",
       " 2006    3\n",
       " 1996    3\n",
       " 2002    3\n",
       " 1979    3\n",
       " 1992    3\n",
       " 1986    3\n",
       " 1983    3\n",
       " 1977    2\n",
       " 1941    2\n",
       " 1989    2\n",
       " 1945    2\n",
       " 1988    2\n",
       " 1948    2\n",
       " 1949    2\n",
       " 1987    2\n",
       " 1951    2\n",
       " 1952    2\n",
       " 1953    2\n",
       " 1960    2\n",
       " 1972    2\n",
       " 1997    2\n",
       " 1967    2\n",
       " 1969    2\n",
       " 1961    2\n",
       " 1971    2\n",
       " 1925    1\n",
       " 1926    1\n",
       " 1930    1\n",
       " 1931    1\n",
       " 1934    1\n",
       " 1935    1\n",
       " 1936    1\n",
       " 1981    1\n",
       " 1990    1\n",
       " 1970    1\n",
       " 1942    1\n",
       " 1947    1\n",
       " 1968    1\n",
       " 1966    1\n",
       " 1964    1\n",
       " 1963    1\n",
       " 1978    1\n",
       " 1955    1\n",
       " 1956    1\n",
       " 1985    1\n",
       " 1921    1\n",
       " Name: Year, dtype: int64)"
      ]
     },
     "metadata": {},
     "output_type": "display_data"
    },
    {
     "data": {
      "text/plain": [
       "(str, count     250\n",
       " unique     10\n",
       " top         R\n",
       " freq      104\n",
       " Name: Rated, dtype: object, R            104\n",
       " PG            39\n",
       " PG-13         34\n",
       " APPROVED      30\n",
       " G             16\n",
       " NOT RATED     15\n",
       " UNRATED        5\n",
       " PASSED         5\n",
       " GP             1\n",
       " TV-MA          1\n",
       " Name: Rated, dtype: int64)"
      ]
     },
     "metadata": {},
     "output_type": "display_data"
    },
    {
     "data": {
      "text/plain": [
       "(str, count       250\n",
       " unique      110\n",
       " top       Drama\n",
       " freq         19\n",
       " Name: Genre, dtype: object, Drama                           19\n",
       " Crime, Drama                    14\n",
       " Drama, War                       9\n",
       " Animation, Adventure, Comedy     8\n",
       " Crime, Drama, Thriller           8\n",
       " Biography, Drama, History        7\n",
       " Crime, Drama, Mystery            7\n",
       " Action, Adventure, Sci-Fi        6\n",
       " Biography, Drama                 6\n",
       " Action, Adventure, Fantasy       6\n",
       " Adventure, Drama, Fantasy        5\n",
       " Comedy, Romance                  5\n",
       " Crime, Drama, Film-Noir          5\n",
       " Drama, Romance                   5\n",
       " Comedy, Drama, Romance           4\n",
       " Comedy, Crime                    4\n",
       " Mystery, Thriller                4\n",
       " Biography, Crime, Drama          4\n",
       " Drama, Sport                     3\n",
       " Comedy                           3\n",
       " Comedy, Drama                    3\n",
       " Adventure, Drama, History        3\n",
       " Adventure, Biography, Drama      3\n",
       " Action, Sci-Fi                   3\n",
       " Adventure, Drama, Thriller       3\n",
       " Animation, Adventure, Family     2\n",
       " Animation, Family, Fantasy       2\n",
       " Drama, Mystery, Thriller         2\n",
       " Adventure, Comedy, Drama         2\n",
       " Adventure, Family, Fantasy       2\n",
       " Drama, Western                   2\n",
       " Action, Adventure                2\n",
       " Comedy, Drama, Family            2\n",
       " Crime, Film-Noir, Thriller       2\n",
       " Drama, Romance, War              2\n",
       " Action, Adventure, Comedy        2\n",
       " Action, Thriller                 2\n",
       " Adventure, Drama, Sci-Fi         2\n",
       " Drama, History                   2\n",
       " Action, Crime, Drama             2\n",
       " Adventure, Drama, War            2\n",
       " Drama, Film-Noir                 2\n",
       " Action, Drama, Western           2\n",
       " Action, Adventure, Mystery       1\n",
       " Action, Biography, Drama         1\n",
       " Adventure, Drama                 1\n",
       " Action, Adventure, Western       1\n",
       " Drama, History, Romance          1\n",
       " Drama, Sci-Fi, Thriller          1\n",
       " Action, Drama, Sci-Fi            1\n",
       " Drama, Family                    1\n",
       " Drama, Film-Noir, Romance        1\n",
       " Drama, Mystery, Romance          1\n",
       " Biography, Drama, Sport          1\n",
       " Action, Mystery, Thriller        1\n",
       " Drama, Mystery                   1\n",
       " Animation, Comedy, Drama         1\n",
       " Drama, Romance, Sci-Fi           1\n",
       " Crime, Film-Noir, Mystery        1\n",
       " Animation, Action, Adventure     1\n",
       " Crime, Drama, Sci-Fi             1\n",
       " Adventure, Comedy, Sci-Fi        1\n",
       " Biography, Drama, War            1\n",
       " Comedy, Music, Musical           1\n",
       " Comedy, Drama, Sci-Fi            1\n",
       " Comedy, Drama, War               1\n",
       " Sci-Fi, Thriller                 1\n",
       " Drama, Thriller                  1\n",
       " Mystery, Sci-Fi, Thriller        1\n",
       " Film-Noir, Mystery               1\n",
       " Biography, Comedy, Crime         1\n",
       " Animation, Adventure, Drama      1\n",
       " Adventure, Sci-Fi                1\n",
       " Comedy, Drama, Music             1\n",
       " Horror                           1\n",
       " Drama, Thriller, Western         1\n",
       " Drama, History, Thriller         1\n",
       " Horror, Sci-Fi                   1\n",
       " Adventure, Comedy, Fantasy       1\n",
       " Animation, Drama, Fantasy        1\n",
       " Action, Crime, Thriller          1\n",
       " Crime, Drama, Fantasy            1\n",
       " Comedy, Family                   1\n",
       " Drama, Film-Noir, Mystery        1\n",
       " Action, Sci-Fi, Thriller         1\n",
       " Action, Crime, Music             1\n",
       " Comedy, Musical, Romance         1\n",
       " Crime, Drama, History            1\n",
       " Adventure, Sci-Fi, Thriller      1\n",
       " Mystery, Romance, Thriller       1\n",
       " Comedy, Drama, Fantasy           1\n",
       " Drama, Horror, Thriller          1\n",
       " Comedy, Crime, Thriller          1\n",
       " Drama, Music                     1\n",
       " Action, Adventure, Drama         1\n",
       " Crime, Thriller                  1\n",
       " Drama, Music, Romance            1\n",
       " Action, Drama, Thriller          1\n",
       " Comedy, Fantasy, Romance         1\n",
       " Drama, Family, Fantasy           1\n",
       " Horror, Mystery, Sci-Fi          1\n",
       " Biography, Drama, Music          1\n",
       " Adventure, Drama, Western        1\n",
       " Film-Noir, Mystery, Thriller     1\n",
       " Horror, Mystery, Thriller        1\n",
       " Drama, Mystery, Sci-Fi           1\n",
       " Comedy, Crime, Drama             1\n",
       " Drama, Horror                    1\n",
       " Action, Drama, Sport             1\n",
       " Biography, Drama, Thriller       1\n",
       " Name: Genre, dtype: int64)"
      ]
     },
     "metadata": {},
     "output_type": "display_data"
    },
    {
     "data": {
      "text/plain": [
       "(str, count                       250\n",
       " unique                       89\n",
       " top       Warner Bros. Pictures\n",
       " freq                         27\n",
       " Name: Production, dtype: object, Warner Bros. Pictures                       27\n",
       " Paramount Pictures                          17\n",
       " United Artists                              15\n",
       " 20th Century Fox                            15\n",
       " Universal Pictures                          14\n",
       " Columbia Pictures                           10\n",
       " Warner Bros.                                10\n",
       " MGM                                          9\n",
       " Walt Disney Pictures                         8\n",
       " Miramax Films                                7\n",
       " New Line Cinema                              6\n",
       " Sony Pictures                                5\n",
       " Buena Vista Pictures                         4\n",
       " Twentieth Century Fox Home Entertainment     4\n",
       " The Weinstein Company                        3\n",
       " Warner Home Video                            3\n",
       " RKO Radio Pictures                           3\n",
       " Sony Pictures Home Entertainment             3\n",
       " Gramercy Pictures                            3\n",
       " WARNER BROTHERS PICTURES                     3\n",
       " Buena Vista                                  3\n",
       " Focus Features                               2\n",
       " Paramount Vantage                            2\n",
       " Buena Vista Distribution Compa               2\n",
       " Paramount Studios                            2\n",
       " Orion Pictures Corporation                   2\n",
       " Fox Searchlight                              2\n",
       " MCA Universal Home Video                     2\n",
       " Criterion Collection                         2\n",
       " Paramount Home Video                         2\n",
       " Twentieth Century Fox                        2\n",
       " Warner Bros. Pictures/Legendary              1\n",
       " Sony Pictures Classics                       1\n",
       " The Weinstein Co.                            1\n",
       " Universal Films                              1\n",
       " Lionsgate                                    1\n",
       " Dream Works                                  1\n",
       " Fox Searchlight Pictures                     1\n",
       " Dimension Films                              1\n",
       " IFC Films                                    1\n",
       " Loew's Inc.                                  1\n",
       " First National Pictures Inc.                 1\n",
       " Hollywood/Buena Vista                        1\n",
       " DreamWorks Studios                           1\n",
       " Touchstone Pictures                          1\n",
       " Disney/Pixar                                 1\n",
       " Fine Line Features                           1\n",
       " MGM/United Artists                           1\n",
       " Lions Gate Films                             1\n",
       " 20th Century Fox Film Corporation            1\n",
       " See-Saw Films                                1\n",
       " October Films                                1\n",
       " TriStar Pictures                             1\n",
       " Walt Disney Animation Studios                1\n",
       " United Artists Films                         1\n",
       " Element Pictures                             1\n",
       " Summit Entertainment                         1\n",
       " Newmarket Films                              1\n",
       " ITVS                                         1\n",
       " Inferno Entertainment                        1\n",
       " Janus Films                                  1\n",
       " Embassy Pictures/Rialto Pictures             1\n",
       " Ealing Studios                               1\n",
       " Rialto Pictures                              1\n",
       " Paramount                                    1\n",
       " Anchor Bay Entertainment                     1\n",
       " Universal City Studios                       1\n",
       " Turner Entertainment                         1\n",
       " Orion Pictures                               1\n",
       " Fox                                          1\n",
       " MGM Home Entertainment                       1\n",
       " Liongate Films                               1\n",
       " Dreamworks Distribution LLC                  1\n",
       " VCI                                          1\n",
       " Artisan Entertainment                        1\n",
       " Warner Bros. Pictures/Village Roadshow       1\n",
       " Paramount/DWA                                1\n",
       " DreamWorks SKG                               1\n",
       " Liberty Films                                1\n",
       " Warner Independent Pictures                  1\n",
       " 20th Century Fox Film Corporat               1\n",
       " Newmarket Film Group                         1\n",
       " Universal International Pictur               1\n",
       " Open Road Films                              1\n",
       " Cinedigm                                     1\n",
       " Xenon                                        1\n",
       " MGM/UA Classics                              1\n",
       " GKIDS                                        1\n",
       " Almi Cinema 5                                1\n",
       " Name: Production, dtype: int64)"
      ]
     },
     "execution_count": 17,
     "metadata": {},
     "output_type": "execute_result"
    }
   ],
   "source": [
    "# Use our under the hood function to better understand our columns\n",
    "\n",
    "def clarify_column(df, columns):\n",
    "    clarity = type(df[columns][0]), df[columns].describe(), df[columns].value_counts() \n",
    "    return clarity\n",
    "\n",
    "# pd.options.display.max_rows = 1000\n",
    "display(clarify_column(df_topfilms, 'Year'))\n",
    "display(clarify_column(df_topfilms, 'Rated'))\n",
    "display(clarify_column(df_topfilms, 'Genre'))\n",
    "clarify_column(df_topfilms, 'Production')"
   ]
  },
  {
   "cell_type": "markdown",
   "metadata": {},
   "source": [
    "#### Step 3: Separate column values with multiple elements"
   ]
  },
  {
   "cell_type": "markdown",
   "metadata": {},
   "source": [
    "***\n",
    "Now, let's isolate and separate the columns representing multiple values for easier manipulation. This includes `Genre`, `Director`, `Writer`, and `Production`.\n",
    "***"
   ]
  },
  {
   "cell_type": "markdown",
   "metadata": {},
   "source": [
    "**Genre**"
   ]
  },
  {
   "cell_type": "code",
   "execution_count": 18,
   "metadata": {},
   "outputs": [
    {
     "data": {
      "text/html": [
       "<div>\n",
       "<style scoped>\n",
       "    .dataframe tbody tr th:only-of-type {\n",
       "        vertical-align: middle;\n",
       "    }\n",
       "\n",
       "    .dataframe tbody tr th {\n",
       "        vertical-align: top;\n",
       "    }\n",
       "\n",
       "    .dataframe thead th {\n",
       "        text-align: right;\n",
       "    }\n",
       "</style>\n",
       "<table border=\"1\" class=\"dataframe\">\n",
       "  <thead>\n",
       "    <tr style=\"text-align: right;\">\n",
       "      <th></th>\n",
       "      <th>Genre1</th>\n",
       "      <th>Genre2</th>\n",
       "      <th>Genre3</th>\n",
       "    </tr>\n",
       "  </thead>\n",
       "  <tbody>\n",
       "    <tr>\n",
       "      <th>0</th>\n",
       "      <td>Crime</td>\n",
       "      <td>Drama</td>\n",
       "      <td>None</td>\n",
       "    </tr>\n",
       "    <tr>\n",
       "      <th>1</th>\n",
       "      <td>Crime</td>\n",
       "      <td>Drama</td>\n",
       "      <td>None</td>\n",
       "    </tr>\n",
       "    <tr>\n",
       "      <th>2</th>\n",
       "      <td>Crime</td>\n",
       "      <td>Drama</td>\n",
       "      <td>None</td>\n",
       "    </tr>\n",
       "    <tr>\n",
       "      <th>3</th>\n",
       "      <td>Action</td>\n",
       "      <td>Crime</td>\n",
       "      <td>Drama</td>\n",
       "    </tr>\n",
       "    <tr>\n",
       "      <th>4</th>\n",
       "      <td>Crime</td>\n",
       "      <td>Drama</td>\n",
       "      <td>None</td>\n",
       "    </tr>\n",
       "  </tbody>\n",
       "</table>\n",
       "</div>"
      ],
      "text/plain": [
       "   Genre1 Genre2 Genre3\n",
       "0   Crime  Drama   None\n",
       "1   Crime  Drama   None\n",
       "2   Crime  Drama   None\n",
       "3  Action  Crime  Drama\n",
       "4   Crime  Drama   None"
      ]
     },
     "execution_count": 18,
     "metadata": {},
     "output_type": "execute_result"
    }
   ],
   "source": [
    "# split and separate the genres from our dataframe\n",
    "\n",
    "split_genre = df_topfilms['Genre'].str.split(\", \")\n",
    "genre_data = split_genre.to_list()\n",
    "genre_names = ['Genre1', \"Genre2\", \"Genre3\"]\n",
    "genre_df = pd.DataFrame(genre_data, columns=genre_names)\n",
    "genre_df.head()"
   ]
  },
  {
   "cell_type": "code",
   "execution_count": 19,
   "metadata": {},
   "outputs": [
    {
     "data": {
      "text/plain": [
       "count       626\n",
       "unique       21\n",
       "top       Drama\n",
       "freq        169\n",
       "dtype: object"
      ]
     },
     "execution_count": 19,
     "metadata": {},
     "output_type": "execute_result"
    }
   ],
   "source": [
    "# concatenate into one column and drop null rows\n",
    "\n",
    "genre_pull = [genre_df['Genre1'], genre_df['Genre2'], genre_df['Genre3']]\n",
    "singular_genre_total = pd.concat(genre_pull)\n",
    "singular_genre_total.dropna(inplace=True)\n",
    "singular_genre_total.describe()"
   ]
  },
  {
   "cell_type": "markdown",
   "metadata": {},
   "source": [
    "**Writers**"
   ]
  },
  {
   "cell_type": "code",
   "execution_count": 20,
   "metadata": {},
   "outputs": [],
   "source": [
    "# clean up extraneous characters in our column\n",
    "\n",
    "def collect_names(string):\n",
    "    split = string.split(\", \")\n",
    "    return [re.sub(r\"\\([^()]*\\)\", \"\", val) for val in split]\n",
    "\n",
    "# isolate each writer into a separate row for simplified manipulation\n",
    "\n",
    "writer_frequency = pd.DataFrame()\n",
    "\n",
    "for idx in df_topfilms.index:\n",
    "    writers = df_topfilms['Writer'][idx]\n",
    "    names = collect_names(writers)\n",
    "    title = df_topfilms['Title'][idx]\n",
    "    for name in names:\n",
    "        payload = {'Title': title, 'Writer': name}\n",
    "        writer_frequency = writer_frequency.append(payload, ignore_index=True)"
   ]
  },
  {
   "cell_type": "code",
   "execution_count": 21,
   "metadata": {},
   "outputs": [
    {
     "data": {
      "text/plain": [
       "Andrew Stanton        8\n",
       "Stanley Kubrick       8\n",
       "Pete Docter           7\n",
       "Christopher Nolan     7\n",
       "George Lucas          7\n",
       "                     ..\n",
       "Ladislas Farago       1\n",
       "Daphne Du Maurier     1\n",
       "Sidney Howard         1\n",
       "Jennifer Lee          1\n",
       "Robert Bloch          1\n",
       "Name: Writer, Length: 559, dtype: int64"
      ]
     },
     "execution_count": 21,
     "metadata": {},
     "output_type": "execute_result"
    }
   ],
   "source": [
    "# preview our results\n",
    "\n",
    "writer_frequency['Writer'].value_counts()"
   ]
  },
  {
   "cell_type": "code",
   "execution_count": 22,
   "metadata": {},
   "outputs": [
    {
     "data": {
      "image/png": "[encoded data removed]",
      "text/plain": [
       "<Figure size 432x288 with 1 Axes>"
      ]
     },
     "metadata": {
      "needs_background": "light"
     },
     "output_type": "display_data"
    }
   ],
   "source": [
    "# visualize the range of repetition in our writer list\n",
    "\n",
    "plt.hist(writer_frequency['Writer'].value_counts());"
   ]
  },
  {
   "cell_type": "markdown",
   "metadata": {},
   "source": [
    "**Production**"
   ]
  },
  {
   "cell_type": "code",
   "execution_count": 23,
   "metadata": {},
   "outputs": [
    {
     "data": {
      "text/html": [
       "<div>\n",
       "<style scoped>\n",
       "    .dataframe tbody tr th:only-of-type {\n",
       "        vertical-align: middle;\n",
       "    }\n",
       "\n",
       "    .dataframe tbody tr th {\n",
       "        vertical-align: top;\n",
       "    }\n",
       "\n",
       "    .dataframe thead th {\n",
       "        text-align: right;\n",
       "    }\n",
       "</style>\n",
       "<table border=\"1\" class=\"dataframe\">\n",
       "  <thead>\n",
       "    <tr style=\"text-align: right;\">\n",
       "      <th></th>\n",
       "      <th>Studio1</th>\n",
       "      <th>Studio2</th>\n",
       "    </tr>\n",
       "  </thead>\n",
       "  <tbody>\n",
       "    <tr>\n",
       "      <th>0</th>\n",
       "      <td>Columbia Pictures</td>\n",
       "      <td>None</td>\n",
       "    </tr>\n",
       "    <tr>\n",
       "      <th>1</th>\n",
       "      <td>Paramount Pictures</td>\n",
       "      <td>None</td>\n",
       "    </tr>\n",
       "    <tr>\n",
       "      <th>2</th>\n",
       "      <td>Paramount Pictures</td>\n",
       "      <td>None</td>\n",
       "    </tr>\n",
       "    <tr>\n",
       "      <th>3</th>\n",
       "      <td>Warner Bros. Pictures</td>\n",
       "      <td>Legendary</td>\n",
       "    </tr>\n",
       "    <tr>\n",
       "      <th>4</th>\n",
       "      <td>Criterion Collection</td>\n",
       "      <td>None</td>\n",
       "    </tr>\n",
       "  </tbody>\n",
       "</table>\n",
       "</div>"
      ],
      "text/plain": [
       "                 Studio1    Studio2\n",
       "0      Columbia Pictures       None\n",
       "1     Paramount Pictures       None\n",
       "2     Paramount Pictures       None\n",
       "3  Warner Bros. Pictures  Legendary\n",
       "4   Criterion Collection       None"
      ]
     },
     "execution_count": 23,
     "metadata": {},
     "output_type": "execute_result"
    }
   ],
   "source": [
    "# split and separate the directors from our dataframe\n",
    "\n",
    "split_studio = df_topfilms['Production'].str.split(\"/\")\n",
    "studio_data = split_studio.to_list()\n",
    "studio_names = ['Studio1', \"Studio2\"]\n",
    "studio_df = pd.DataFrame(studio_data, columns=studio_names)\n",
    "studio_df.head()"
   ]
  },
  {
   "cell_type": "code",
   "execution_count": 24,
   "metadata": {},
   "outputs": [
    {
     "data": {
      "text/plain": [
       "count                       258\n",
       "unique                       89\n",
       "top       Warner Bros. Pictures\n",
       "freq                         29\n",
       "dtype: object"
      ]
     },
     "execution_count": 24,
     "metadata": {},
     "output_type": "execute_result"
    }
   ],
   "source": [
    "# concatenate into one column and drop null rows\n",
    "\n",
    "studio_pull = [studio_df['Studio1'], studio_df['Studio2']]\n",
    "singular_studio_total = pd.concat(studio_pull)\n",
    "singular_studio_total.dropna(inplace=True)\n",
    "singular_studio_total.describe()"
   ]
  },
  {
   "cell_type": "markdown",
   "metadata": {},
   "source": [
    "**Directors**"
   ]
  },
  {
   "cell_type": "code",
   "execution_count": 25,
   "metadata": {},
   "outputs": [
    {
     "data": {
      "text/html": [
       "<div>\n",
       "<style scoped>\n",
       "    .dataframe tbody tr th:only-of-type {\n",
       "        vertical-align: middle;\n",
       "    }\n",
       "\n",
       "    .dataframe tbody tr th {\n",
       "        vertical-align: top;\n",
       "    }\n",
       "\n",
       "    .dataframe thead th {\n",
       "        text-align: right;\n",
       "    }\n",
       "</style>\n",
       "<table border=\"1\" class=\"dataframe\">\n",
       "  <thead>\n",
       "    <tr style=\"text-align: right;\">\n",
       "      <th></th>\n",
       "      <th>Director1</th>\n",
       "      <th>Director2</th>\n",
       "      <th>Director3</th>\n",
       "      <th>Director4</th>\n",
       "      <th>Director5</th>\n",
       "    </tr>\n",
       "  </thead>\n",
       "  <tbody>\n",
       "    <tr>\n",
       "      <th>0</th>\n",
       "      <td>Frank Darabont</td>\n",
       "      <td>None</td>\n",
       "      <td>None</td>\n",
       "      <td>None</td>\n",
       "      <td>None</td>\n",
       "    </tr>\n",
       "    <tr>\n",
       "      <th>1</th>\n",
       "      <td>Francis Ford Coppola</td>\n",
       "      <td>None</td>\n",
       "      <td>None</td>\n",
       "      <td>None</td>\n",
       "      <td>None</td>\n",
       "    </tr>\n",
       "    <tr>\n",
       "      <th>2</th>\n",
       "      <td>Francis Ford Coppola</td>\n",
       "      <td>None</td>\n",
       "      <td>None</td>\n",
       "      <td>None</td>\n",
       "      <td>None</td>\n",
       "    </tr>\n",
       "    <tr>\n",
       "      <th>3</th>\n",
       "      <td>Christopher Nolan</td>\n",
       "      <td>None</td>\n",
       "      <td>None</td>\n",
       "      <td>None</td>\n",
       "      <td>None</td>\n",
       "    </tr>\n",
       "    <tr>\n",
       "      <th>4</th>\n",
       "      <td>Sidney Lumet</td>\n",
       "      <td>None</td>\n",
       "      <td>None</td>\n",
       "      <td>None</td>\n",
       "      <td>None</td>\n",
       "    </tr>\n",
       "  </tbody>\n",
       "</table>\n",
       "</div>"
      ],
      "text/plain": [
       "              Director1 Director2 Director3 Director4 Director5\n",
       "0        Frank Darabont      None      None      None      None\n",
       "1  Francis Ford Coppola      None      None      None      None\n",
       "2  Francis Ford Coppola      None      None      None      None\n",
       "3     Christopher Nolan      None      None      None      None\n",
       "4          Sidney Lumet      None      None      None      None"
      ]
     },
     "execution_count": 25,
     "metadata": {},
     "output_type": "execute_result"
    }
   ],
   "source": [
    "# split and separate the directors from our dataframe\n",
    "\n",
    "split_director = df_topfilms['Director'].str.split(\", \")\n",
    "director_data = split_director.to_list()\n",
    "director_names = ['Director1', \"Director2\", \"Director3\", \"Director4\", \"Director5\"]\n",
    "director_df = pd.DataFrame(director_data, columns=director_names)\n",
    "director_df.head()"
   ]
  },
  {
   "cell_type": "code",
   "execution_count": 26,
   "metadata": {},
   "outputs": [
    {
     "data": {
      "text/plain": [
       "count                  279\n",
       "unique                 167\n",
       "top       Alfred Hitchcock\n",
       "freq                     9\n",
       "dtype: object"
      ]
     },
     "execution_count": 26,
     "metadata": {},
     "output_type": "execute_result"
    }
   ],
   "source": [
    "# concatenate into one column and drop null rows\n",
    "\n",
    "director_pull = [director_df['Director1'], director_df['Director2'], director_df['Director3'], \n",
    "                director_df['Director4'], director_df['Director5']]\n",
    "singular_director_total = pd.concat(director_pull)\n",
    "singular_director_total.dropna(inplace=True)\n",
    "singular_director_total.describe()"
   ]
  },
  {
   "cell_type": "markdown",
   "metadata": {},
   "source": [
    "**Actors**"
   ]
  },
  {
   "cell_type": "code",
   "execution_count": 27,
   "metadata": {},
   "outputs": [
    {
     "data": {
      "text/html": [
       "<div>\n",
       "<style scoped>\n",
       "    .dataframe tbody tr th:only-of-type {\n",
       "        vertical-align: middle;\n",
       "    }\n",
       "\n",
       "    .dataframe tbody tr th {\n",
       "        vertical-align: top;\n",
       "    }\n",
       "\n",
       "    .dataframe thead th {\n",
       "        text-align: right;\n",
       "    }\n",
       "</style>\n",
       "<table border=\"1\" class=\"dataframe\">\n",
       "  <thead>\n",
       "    <tr style=\"text-align: right;\">\n",
       "      <th></th>\n",
       "      <th>Actor1</th>\n",
       "      <th>Actor2</th>\n",
       "      <th>Actor3</th>\n",
       "      <th>Actor4</th>\n",
       "    </tr>\n",
       "  </thead>\n",
       "  <tbody>\n",
       "    <tr>\n",
       "      <th>0</th>\n",
       "      <td>Tim Robbins</td>\n",
       "      <td>Morgan Freeman</td>\n",
       "      <td>Bob Gunton</td>\n",
       "      <td>William Sadler</td>\n",
       "    </tr>\n",
       "    <tr>\n",
       "      <th>1</th>\n",
       "      <td>Marlon Brando</td>\n",
       "      <td>Al Pacino</td>\n",
       "      <td>James Caan</td>\n",
       "      <td>Richard S. Castellano</td>\n",
       "    </tr>\n",
       "    <tr>\n",
       "      <th>2</th>\n",
       "      <td>Al Pacino</td>\n",
       "      <td>Robert Duvall</td>\n",
       "      <td>Diane Keaton</td>\n",
       "      <td>Robert De Niro</td>\n",
       "    </tr>\n",
       "    <tr>\n",
       "      <th>3</th>\n",
       "      <td>Christian Bale</td>\n",
       "      <td>Heath Ledger</td>\n",
       "      <td>Aaron Eckhart</td>\n",
       "      <td>Michael Caine</td>\n",
       "    </tr>\n",
       "    <tr>\n",
       "      <th>4</th>\n",
       "      <td>Martin Balsam</td>\n",
       "      <td>John Fiedler</td>\n",
       "      <td>Lee J. Cobb</td>\n",
       "      <td>E.G. Marshall</td>\n",
       "    </tr>\n",
       "  </tbody>\n",
       "</table>\n",
       "</div>"
      ],
      "text/plain": [
       "           Actor1          Actor2         Actor3                 Actor4\n",
       "0     Tim Robbins  Morgan Freeman     Bob Gunton         William Sadler\n",
       "1   Marlon Brando       Al Pacino     James Caan  Richard S. Castellano\n",
       "2       Al Pacino   Robert Duvall   Diane Keaton         Robert De Niro\n",
       "3  Christian Bale    Heath Ledger  Aaron Eckhart          Michael Caine\n",
       "4   Martin Balsam    John Fiedler    Lee J. Cobb          E.G. Marshall"
      ]
     },
     "execution_count": 27,
     "metadata": {},
     "output_type": "execute_result"
    }
   ],
   "source": [
    "# split and separate the actors from our dataframe\n",
    "\n",
    "split_actor = df_topfilms['Actors'].str.split(\", \")\n",
    "actor_data = split_actor.to_list()\n",
    "actor_names = ['Actor1', 'Actor2', 'Actor3', 'Actor4']\n",
    "actor_df = pd.DataFrame(actor_data, columns=actor_names)\n",
    "actor_df.head()"
   ]
  },
  {
   "cell_type": "code",
   "execution_count": 28,
   "metadata": {},
   "outputs": [
    {
     "data": {
      "text/plain": [
       "count                  1000\n",
       "unique                  773\n",
       "top       Leonardo DiCaprio\n",
       "freq                      8\n",
       "dtype: object"
      ]
     },
     "execution_count": 28,
     "metadata": {},
     "output_type": "execute_result"
    }
   ],
   "source": [
    "# concatenate into one column and drop null rows\n",
    "\n",
    "actor_pull = [actor_df['Actor1'], actor_df['Actor2'], actor_df['Actor3'], \n",
    "             actor_df['Actor4']]\n",
    "singular_actor_total = pd.concat(actor_pull)\n",
    "singular_actor_total.dropna(inplace=True)\n",
    "singular_actor_total.describe()"
   ]
  },
  {
   "cell_type": "markdown",
   "metadata": {},
   "source": [
    "#### Step 3: Add each film genre column back into our dataset"
   ]
  },
  {
   "cell_type": "markdown",
   "metadata": {},
   "source": [
    "This will allow us to directly compare the primary genre of each film to the film's ROI. This lets us spot trends and show Microsoft which films have done the best at the box office."
   ]
  },
  {
   "cell_type": "code",
   "execution_count": 29,
   "metadata": {},
   "outputs": [
    {
     "data": {
      "text/html": [
       "<div>\n",
       "<style scoped>\n",
       "    .dataframe tbody tr th:only-of-type {\n",
       "        vertical-align: middle;\n",
       "    }\n",
       "\n",
       "    .dataframe tbody tr th {\n",
       "        vertical-align: top;\n",
       "    }\n",
       "\n",
       "    .dataframe thead th {\n",
       "        text-align: right;\n",
       "    }\n",
       "</style>\n",
       "<table border=\"1\" class=\"dataframe\">\n",
       "  <thead>\n",
       "    <tr style=\"text-align: right;\">\n",
       "      <th></th>\n",
       "      <th>Title</th>\n",
       "      <th>Year</th>\n",
       "      <th>Rated</th>\n",
       "      <th>Genre</th>\n",
       "      <th>Director</th>\n",
       "      <th>Writer</th>\n",
       "      <th>Actors</th>\n",
       "      <th>Production</th>\n",
       "      <th>Primary Genre</th>\n",
       "      <th>Secondary Genre</th>\n",
       "      <th>Tertiary Genre</th>\n",
       "    </tr>\n",
       "  </thead>\n",
       "  <tbody>\n",
       "    <tr>\n",
       "      <th>0</th>\n",
       "      <td>The Shawshank Redemption</td>\n",
       "      <td>1994</td>\n",
       "      <td>R</td>\n",
       "      <td>Crime, Drama</td>\n",
       "      <td>Frank Darabont</td>\n",
       "      <td>Stephen King (short story \"Rita Hayworth and S...</td>\n",
       "      <td>Tim Robbins, Morgan Freeman, Bob Gunton, Willi...</td>\n",
       "      <td>Columbia Pictures</td>\n",
       "      <td>Crime</td>\n",
       "      <td>Drama</td>\n",
       "      <td>None</td>\n",
       "    </tr>\n",
       "    <tr>\n",
       "      <th>1</th>\n",
       "      <td>The Godfather</td>\n",
       "      <td>1972</td>\n",
       "      <td>R</td>\n",
       "      <td>Crime, Drama</td>\n",
       "      <td>Francis Ford Coppola</td>\n",
       "      <td>Mario Puzo (screenplay), Francis Ford Coppola ...</td>\n",
       "      <td>Marlon Brando, Al Pacino, James Caan, Richard ...</td>\n",
       "      <td>Paramount Pictures</td>\n",
       "      <td>Crime</td>\n",
       "      <td>Drama</td>\n",
       "      <td>None</td>\n",
       "    </tr>\n",
       "    <tr>\n",
       "      <th>2</th>\n",
       "      <td>The Godfather: Part II</td>\n",
       "      <td>1974</td>\n",
       "      <td>R</td>\n",
       "      <td>Crime, Drama</td>\n",
       "      <td>Francis Ford Coppola</td>\n",
       "      <td>Francis Ford Coppola (screenplay), Mario Puzo ...</td>\n",
       "      <td>Al Pacino, Robert Duvall, Diane Keaton, Robert...</td>\n",
       "      <td>Paramount Pictures</td>\n",
       "      <td>Crime</td>\n",
       "      <td>Drama</td>\n",
       "      <td>None</td>\n",
       "    </tr>\n",
       "    <tr>\n",
       "      <th>3</th>\n",
       "      <td>The Dark Knight</td>\n",
       "      <td>2008</td>\n",
       "      <td>PG-13</td>\n",
       "      <td>Action, Crime, Drama</td>\n",
       "      <td>Christopher Nolan</td>\n",
       "      <td>Jonathan Nolan (screenplay), Christopher Nolan...</td>\n",
       "      <td>Christian Bale, Heath Ledger, Aaron Eckhart, M...</td>\n",
       "      <td>Warner Bros. Pictures/Legendary</td>\n",
       "      <td>Action</td>\n",
       "      <td>Crime</td>\n",
       "      <td>Drama</td>\n",
       "    </tr>\n",
       "    <tr>\n",
       "      <th>4</th>\n",
       "      <td>12 Angry Men</td>\n",
       "      <td>1957</td>\n",
       "      <td>APPROVED</td>\n",
       "      <td>Crime, Drama</td>\n",
       "      <td>Sidney Lumet</td>\n",
       "      <td>Reginald Rose (story), Reginald Rose (screenplay)</td>\n",
       "      <td>Martin Balsam, John Fiedler, Lee J. Cobb, E.G....</td>\n",
       "      <td>Criterion Collection</td>\n",
       "      <td>Crime</td>\n",
       "      <td>Drama</td>\n",
       "      <td>None</td>\n",
       "    </tr>\n",
       "  </tbody>\n",
       "</table>\n",
       "</div>"
      ],
      "text/plain": [
       "                      Title  Year     Rated                 Genre  \\\n",
       "0  The Shawshank Redemption  1994         R          Crime, Drama   \n",
       "1             The Godfather  1972         R          Crime, Drama   \n",
       "2    The Godfather: Part II  1974         R          Crime, Drama   \n",
       "3           The Dark Knight  2008     PG-13  Action, Crime, Drama   \n",
       "4              12 Angry Men  1957  APPROVED          Crime, Drama   \n",
       "\n",
       "               Director                                             Writer  \\\n",
       "0        Frank Darabont  Stephen King (short story \"Rita Hayworth and S...   \n",
       "1  Francis Ford Coppola  Mario Puzo (screenplay), Francis Ford Coppola ...   \n",
       "2  Francis Ford Coppola  Francis Ford Coppola (screenplay), Mario Puzo ...   \n",
       "3     Christopher Nolan  Jonathan Nolan (screenplay), Christopher Nolan...   \n",
       "4          Sidney Lumet  Reginald Rose (story), Reginald Rose (screenplay)   \n",
       "\n",
       "                                              Actors  \\\n",
       "0  Tim Robbins, Morgan Freeman, Bob Gunton, Willi...   \n",
       "1  Marlon Brando, Al Pacino, James Caan, Richard ...   \n",
       "2  Al Pacino, Robert Duvall, Diane Keaton, Robert...   \n",
       "3  Christian Bale, Heath Ledger, Aaron Eckhart, M...   \n",
       "4  Martin Balsam, John Fiedler, Lee J. Cobb, E.G....   \n",
       "\n",
       "                        Production Primary Genre Secondary Genre  \\\n",
       "0                Columbia Pictures         Crime           Drama   \n",
       "1               Paramount Pictures         Crime           Drama   \n",
       "2               Paramount Pictures         Crime           Drama   \n",
       "3  Warner Bros. Pictures/Legendary        Action           Crime   \n",
       "4             Criterion Collection         Crime           Drama   \n",
       "\n",
       "  Tertiary Genre  \n",
       "0           None  \n",
       "1           None  \n",
       "2           None  \n",
       "3          Drama  \n",
       "4           None  "
      ]
     },
     "execution_count": 29,
     "metadata": {},
     "output_type": "execute_result"
    }
   ],
   "source": [
    "# add split genre columns back into data frame\n",
    "\n",
    "df_topfilms['Primary Genre'] = genre_df['Genre1']\n",
    "df_topfilms['Secondary Genre'] = genre_df['Genre2']\n",
    "df_topfilms['Tertiary Genre'] = genre_df['Genre3']\n",
    "\n",
    "df_topfilms.head()"
   ]
  },
  {
   "cell_type": "markdown",
   "metadata": {},
   "source": [
    "### Merge our IMDB dataset with The Numbers"
   ]
  },
  {
   "cell_type": "markdown",
   "metadata": {},
   "source": [
    "Let's merge our datasets according to the film title and confirm that all of our IMDB top films are accounted for."
   ]
  },
  {
   "cell_type": "code",
   "execution_count": 30,
   "metadata": {},
   "outputs": [
    {
     "data": {
      "text/html": [
       "<div>\n",
       "<style scoped>\n",
       "    .dataframe tbody tr th:only-of-type {\n",
       "        vertical-align: middle;\n",
       "    }\n",
       "\n",
       "    .dataframe tbody tr th {\n",
       "        vertical-align: top;\n",
       "    }\n",
       "\n",
       "    .dataframe thead th {\n",
       "        text-align: right;\n",
       "    }\n",
       "</style>\n",
       "<table border=\"1\" class=\"dataframe\">\n",
       "  <thead>\n",
       "    <tr style=\"text-align: right;\">\n",
       "      <th></th>\n",
       "      <th>Title</th>\n",
       "      <th>Year</th>\n",
       "      <th>Rated</th>\n",
       "      <th>Genre</th>\n",
       "      <th>Director</th>\n",
       "      <th>Writer</th>\n",
       "      <th>Actors</th>\n",
       "      <th>Production</th>\n",
       "      <th>Primary Genre</th>\n",
       "      <th>Secondary Genre</th>\n",
       "      <th>Tertiary Genre</th>\n",
       "      <th>release_date</th>\n",
       "      <th>movie</th>\n",
       "      <th>production_budget</th>\n",
       "      <th>worldwide_gross</th>\n",
       "      <th>worldwide_roi</th>\n",
       "    </tr>\n",
       "  </thead>\n",
       "  <tbody>\n",
       "    <tr>\n",
       "      <th>0</th>\n",
       "      <td>The Shawshank Redemption</td>\n",
       "      <td>1994</td>\n",
       "      <td>R</td>\n",
       "      <td>Crime, Drama</td>\n",
       "      <td>Frank Darabont</td>\n",
       "      <td>Stephen King (short story \"Rita Hayworth and S...</td>\n",
       "      <td>Tim Robbins, Morgan Freeman, Bob Gunton, Willi...</td>\n",
       "      <td>Columbia Pictures</td>\n",
       "      <td>Crime</td>\n",
       "      <td>Drama</td>\n",
       "      <td>None</td>\n",
       "      <td>Sep 23, 1994</td>\n",
       "      <td>The Shawshank Redemption</td>\n",
       "      <td>25000000</td>\n",
       "      <td>28307092</td>\n",
       "      <td>113.228368</td>\n",
       "    </tr>\n",
       "    <tr>\n",
       "      <th>1</th>\n",
       "      <td>The Godfather</td>\n",
       "      <td>1972</td>\n",
       "      <td>R</td>\n",
       "      <td>Crime, Drama</td>\n",
       "      <td>Francis Ford Coppola</td>\n",
       "      <td>Mario Puzo (screenplay), Francis Ford Coppola ...</td>\n",
       "      <td>Marlon Brando, Al Pacino, James Caan, Richard ...</td>\n",
       "      <td>Paramount Pictures</td>\n",
       "      <td>Crime</td>\n",
       "      <td>Drama</td>\n",
       "      <td>None</td>\n",
       "      <td>Mar 15, 1972</td>\n",
       "      <td>The Godfather</td>\n",
       "      <td>7000000</td>\n",
       "      <td>268500000</td>\n",
       "      <td>3835.714286</td>\n",
       "    </tr>\n",
       "    <tr>\n",
       "      <th>2</th>\n",
       "      <td>The Godfather: Part II</td>\n",
       "      <td>1974</td>\n",
       "      <td>R</td>\n",
       "      <td>Crime, Drama</td>\n",
       "      <td>Francis Ford Coppola</td>\n",
       "      <td>Francis Ford Coppola (screenplay), Mario Puzo ...</td>\n",
       "      <td>Al Pacino, Robert Duvall, Diane Keaton, Robert...</td>\n",
       "      <td>Paramount Pictures</td>\n",
       "      <td>Crime</td>\n",
       "      <td>Drama</td>\n",
       "      <td>None</td>\n",
       "      <td>Dec 11, 1974</td>\n",
       "      <td>The Godfather: Part II</td>\n",
       "      <td>13000000</td>\n",
       "      <td>57300000</td>\n",
       "      <td>440.769231</td>\n",
       "    </tr>\n",
       "    <tr>\n",
       "      <th>3</th>\n",
       "      <td>The Dark Knight</td>\n",
       "      <td>2008</td>\n",
       "      <td>PG-13</td>\n",
       "      <td>Action, Crime, Drama</td>\n",
       "      <td>Christopher Nolan</td>\n",
       "      <td>Jonathan Nolan (screenplay), Christopher Nolan...</td>\n",
       "      <td>Christian Bale, Heath Ledger, Aaron Eckhart, M...</td>\n",
       "      <td>Warner Bros. Pictures/Legendary</td>\n",
       "      <td>Action</td>\n",
       "      <td>Crime</td>\n",
       "      <td>Drama</td>\n",
       "      <td>Jul 18, 2008</td>\n",
       "      <td>The Dark Knight</td>\n",
       "      <td>185000000</td>\n",
       "      <td>1001996207</td>\n",
       "      <td>541.619571</td>\n",
       "    </tr>\n",
       "    <tr>\n",
       "      <th>4</th>\n",
       "      <td>12 Angry Men</td>\n",
       "      <td>1957</td>\n",
       "      <td>APPROVED</td>\n",
       "      <td>Crime, Drama</td>\n",
       "      <td>Sidney Lumet</td>\n",
       "      <td>Reginald Rose (story), Reginald Rose (screenplay)</td>\n",
       "      <td>Martin Balsam, John Fiedler, Lee J. Cobb, E.G....</td>\n",
       "      <td>Criterion Collection</td>\n",
       "      <td>Crime</td>\n",
       "      <td>Drama</td>\n",
       "      <td>None</td>\n",
       "      <td>Apr 13, 1957</td>\n",
       "      <td>12 Angry Men</td>\n",
       "      <td>340000</td>\n",
       "      <td>0</td>\n",
       "      <td>0.000000</td>\n",
       "    </tr>\n",
       "  </tbody>\n",
       "</table>\n",
       "</div>"
      ],
      "text/plain": [
       "                      Title  Year     Rated                 Genre  \\\n",
       "0  The Shawshank Redemption  1994         R          Crime, Drama   \n",
       "1             The Godfather  1972         R          Crime, Drama   \n",
       "2    The Godfather: Part II  1974         R          Crime, Drama   \n",
       "3           The Dark Knight  2008     PG-13  Action, Crime, Drama   \n",
       "4              12 Angry Men  1957  APPROVED          Crime, Drama   \n",
       "\n",
       "               Director                                             Writer  \\\n",
       "0        Frank Darabont  Stephen King (short story \"Rita Hayworth and S...   \n",
       "1  Francis Ford Coppola  Mario Puzo (screenplay), Francis Ford Coppola ...   \n",
       "2  Francis Ford Coppola  Francis Ford Coppola (screenplay), Mario Puzo ...   \n",
       "3     Christopher Nolan  Jonathan Nolan (screenplay), Christopher Nolan...   \n",
       "4          Sidney Lumet  Reginald Rose (story), Reginald Rose (screenplay)   \n",
       "\n",
       "                                              Actors  \\\n",
       "0  Tim Robbins, Morgan Freeman, Bob Gunton, Willi...   \n",
       "1  Marlon Brando, Al Pacino, James Caan, Richard ...   \n",
       "2  Al Pacino, Robert Duvall, Diane Keaton, Robert...   \n",
       "3  Christian Bale, Heath Ledger, Aaron Eckhart, M...   \n",
       "4  Martin Balsam, John Fiedler, Lee J. Cobb, E.G....   \n",
       "\n",
       "                        Production Primary Genre Secondary Genre  \\\n",
       "0                Columbia Pictures         Crime           Drama   \n",
       "1               Paramount Pictures         Crime           Drama   \n",
       "2               Paramount Pictures         Crime           Drama   \n",
       "3  Warner Bros. Pictures/Legendary        Action           Crime   \n",
       "4             Criterion Collection         Crime           Drama   \n",
       "\n",
       "  Tertiary Genre  release_date                     movie  production_budget  \\\n",
       "0           None  Sep 23, 1994  The Shawshank Redemption           25000000   \n",
       "1           None  Mar 15, 1972             The Godfather            7000000   \n",
       "2           None  Dec 11, 1974    The Godfather: Part II           13000000   \n",
       "3          Drama  Jul 18, 2008           The Dark Knight          185000000   \n",
       "4           None  Apr 13, 1957              12 Angry Men             340000   \n",
       "\n",
       "   worldwide_gross  worldwide_roi  \n",
       "0         28307092     113.228368  \n",
       "1        268500000    3835.714286  \n",
       "2         57300000     440.769231  \n",
       "3       1001996207     541.619571  \n",
       "4                0       0.000000  "
      ]
     },
     "execution_count": 30,
     "metadata": {},
     "output_type": "execute_result"
    }
   ],
   "source": [
    "# merge The Numbers dataset to connect ROI\n",
    "\n",
    "merged_dataframe = df_topfilms.merge(df_filmbudgets, left_on='Title', right_on='movie')\n",
    "merged_dataframe.head()"
   ]
  },
  {
   "cell_type": "code",
   "execution_count": 31,
   "metadata": {
    "scrolled": true
   },
   "outputs": [
    {
     "name": "stdout",
     "output_type": "stream",
     "text": [
      "<class 'pandas.core.frame.DataFrame'>\n",
      "Int64Index: 178 entries, 0 to 177\n",
      "Data columns (total 16 columns):\n",
      " #   Column             Non-Null Count  Dtype  \n",
      "---  ------             --------------  -----  \n",
      " 0   Title              178 non-null    object \n",
      " 1   Year               178 non-null    int64  \n",
      " 2   Rated              178 non-null    object \n",
      " 3   Genre              178 non-null    object \n",
      " 4   Director           178 non-null    object \n",
      " 5   Writer             178 non-null    object \n",
      " 6   Actors             178 non-null    object \n",
      " 7   Production         178 non-null    object \n",
      " 8   Primary Genre      178 non-null    object \n",
      " 9   Secondary Genre    161 non-null    object \n",
      " 10  Tertiary Genre     104 non-null    object \n",
      " 11  release_date       178 non-null    object \n",
      " 12  movie              178 non-null    object \n",
      " 13  production_budget  178 non-null    int64  \n",
      " 14  worldwide_gross    178 non-null    int64  \n",
      " 15  worldwide_roi      178 non-null    float64\n",
      "dtypes: float64(1), int64(3), object(12)\n",
      "memory usage: 23.6+ KB\n"
     ]
    }
   ],
   "source": [
    "merged_dataframe.info()"
   ]
  },
  {
   "cell_type": "markdown",
   "metadata": {},
   "source": [
    "***"
   ]
  },
  {
   "cell_type": "markdown",
   "metadata": {},
   "source": [
    "## Data Modeling"
   ]
  },
  {
   "cell_type": "markdown",
   "metadata": {},
   "source": [
    "### Movie Types That Succeed At The Box Office"
   ]
  },
  {
   "cell_type": "markdown",
   "metadata": {},
   "source": [
    "Lets determine which type of film types are more likely to pull in a profit for Microsoft."
   ]
  },
  {
   "cell_type": "markdown",
   "metadata": {},
   "source": [
    "### Which genres do audiences hold in the highest regard?"
   ]
  },
  {
   "cell_type": "markdown",
   "metadata": {},
   "source": [
    "The best way to determine our answer is to take our two hundred and fifty most popular films and identify the most popular genres. We can determine the most revered by creating a ranking of the top ten genres and visualizing it below.\n",
    "\n",
    "In order to dive deeper, we'll also layer in supporting genres that were not considered primary, but did showcase elements of the included films."
   ]
  },
  {
   "cell_type": "code",
   "execution_count": 32,
   "metadata": {},
   "outputs": [
    {
     "data": {
      "image/png": "[encoded data removed]",
      "text/plain": [
       "<Figure size 432x288 with 1 Axes>"
      ]
     },
     "metadata": {
      "needs_background": "light"
     },
     "output_type": "display_data"
    }
   ],
   "source": [
    "# visualize the range of repetition across all levels of genre\n",
    "\n",
    "plt.hist(singular_genre_total.value_counts());"
   ]
  },
  {
   "cell_type": "code",
   "execution_count": 33,
   "metadata": {
    "scrolled": true
   },
   "outputs": [
    {
     "data": {
      "image/png": "[encoded data removed]",
      "text/plain": [
       "<Figure size 432x288 with 1 Axes>"
      ]
     },
     "metadata": {
      "needs_background": "light"
     },
     "output_type": "display_data"
    }
   ],
   "source": [
    "# visualize the range of repetition across primary genres\n",
    "\n",
    "plt.hist(genre_df['Genre1'].value_counts());"
   ]
  },
  {
   "cell_type": "code",
   "execution_count": 34,
   "metadata": {},
   "outputs": [
    {
     "data": {
      "text/html": [
       "<div>\n",
       "<style scoped>\n",
       "    .dataframe tbody tr th:only-of-type {\n",
       "        vertical-align: middle;\n",
       "    }\n",
       "\n",
       "    .dataframe tbody tr th {\n",
       "        vertical-align: top;\n",
       "    }\n",
       "\n",
       "    .dataframe thead th {\n",
       "        text-align: right;\n",
       "    }\n",
       "</style>\n",
       "<table border=\"1\" class=\"dataframe\">\n",
       "  <thead>\n",
       "    <tr style=\"text-align: right;\">\n",
       "      <th></th>\n",
       "      <th>Genre1</th>\n",
       "      <th>Genre2</th>\n",
       "      <th>Genre3</th>\n",
       "    </tr>\n",
       "  </thead>\n",
       "  <tbody>\n",
       "    <tr>\n",
       "      <th>count</th>\n",
       "      <td>250</td>\n",
       "      <td>227</td>\n",
       "      <td>149</td>\n",
       "    </tr>\n",
       "    <tr>\n",
       "      <th>unique</th>\n",
       "      <td>11</td>\n",
       "      <td>20</td>\n",
       "      <td>17</td>\n",
       "    </tr>\n",
       "    <tr>\n",
       "      <th>top</th>\n",
       "      <td>Drama</td>\n",
       "      <td>Drama</td>\n",
       "      <td>Thriller</td>\n",
       "    </tr>\n",
       "    <tr>\n",
       "      <th>freq</th>\n",
       "      <td>63</td>\n",
       "      <td>90</td>\n",
       "      <td>29</td>\n",
       "    </tr>\n",
       "  </tbody>\n",
       "</table>\n",
       "</div>"
      ],
      "text/plain": [
       "       Genre1 Genre2    Genre3\n",
       "count     250    227       149\n",
       "unique     11     20        17\n",
       "top     Drama  Drama  Thriller\n",
       "freq       63     90        29"
      ]
     },
     "execution_count": 34,
     "metadata": {},
     "output_type": "execute_result"
    }
   ],
   "source": [
    "genre_df.describe()"
   ]
  },
  {
   "cell_type": "markdown",
   "metadata": {},
   "source": [
    "***\n",
    "This distribution is especially worth keeping in mind as we visualize our top genres. We can see that drama makes up 25% percent of primary genres and 36% of secondary genres.\n",
    "\n",
    "There are also quite a few genres that are rarely repeated amongst our top 250 films. I still believe they are telling and therefore worth including, but with this small caveat of the distribution at hand.\n",
    "***"
   ]
  },
  {
   "cell_type": "code",
   "execution_count": 35,
   "metadata": {},
   "outputs": [],
   "source": [
    "# establish default font size\n",
    "\n",
    "from matplotlib import rcParams\n",
    "rcParams.update({'font.size': 18})"
   ]
  },
  {
   "cell_type": "code",
   "execution_count": 36,
   "metadata": {
    "scrolled": true
   },
   "outputs": [
    {
     "data": {
      "image/png": "[encoded data removed]",
      "text/plain": [
       "<Figure size 1080x432 with 1 Axes>"
      ]
     },
     "metadata": {
      "needs_background": "light"
     },
     "output_type": "display_data"
    }
   ],
   "source": [
    "# create a figure and axis\n",
    "fig, ax = plt.subplots(figsize=(15,6))\n",
    "# count the occurrence of each class\n",
    "data = genre_df['Genre1'].value_counts().head(10)\n",
    "# get x and y data\n",
    "points = data.index\n",
    "frequency = data.values \n",
    "# create bar chart\n",
    "ax.barh(points, frequency) \n",
    "# set title and labels\n",
    "ax.set_title('Top Genres')\n",
    "ax.set_xlabel('Frequency in Top IMDB Films');"
   ]
  },
  {
   "cell_type": "code",
   "execution_count": 37,
   "metadata": {},
   "outputs": [
    {
     "data": {
      "image/png": "[encoded data removed]",
      "text/plain": [
       "<Figure size 1080x432 with 1 Axes>"
      ]
     },
     "metadata": {
      "needs_background": "light"
     },
     "output_type": "display_data"
    }
   ],
   "source": [
    "# create a figure and axis\n",
    "fig, ax = plt.subplots(figsize=(15,6))\n",
    "# count the occurrence of each class\n",
    "data = genre_df['Genre2'].value_counts().head(10)\n",
    "# get x and y data\n",
    "points = data.index\n",
    "frequency = data.values \n",
    "# create bar chart\n",
    "ax.barh(points, frequency) \n",
    "# set title and labels\n",
    "ax.set_title('Top Secondary Genres')\n",
    "ax.set_xlabel('Frequency in Top IMDB Films');"
   ]
  },
  {
   "cell_type": "markdown",
   "metadata": {},
   "source": [
    "### Which types of films give the most return on investment at the box office?"
   ]
  },
  {
   "cell_type": "markdown",
   "metadata": {},
   "source": [
    "Here we'll measure the ROI that was brought in on average across the genre. This should give us a greater understanding of which genres tend to impact the bottom line the most."
   ]
  },
  {
   "cell_type": "code",
   "execution_count": 38,
   "metadata": {},
   "outputs": [
    {
     "data": {
      "text/plain": [
       "Primary Genre\n",
       "Action        561.278410\n",
       "Adventure     812.953668\n",
       "Animation     948.570635\n",
       "Biography     594.714607\n",
       "Comedy       1059.882061\n",
       "Crime         758.877104\n",
       "Drama        1518.620807\n",
       "Horror       1432.555019\n",
       "Mystery       584.394574\n",
       "Sci-Fi        140.510400\n",
       "Name: worldwide_roi, dtype: float64"
      ]
     },
     "execution_count": 38,
     "metadata": {},
     "output_type": "execute_result"
    }
   ],
   "source": [
    "roi_across_genre = merged_dataframe.groupby(['Primary Genre']).worldwide_roi.mean()\n",
    "roi_across_genre"
   ]
  },
  {
   "cell_type": "code",
   "execution_count": 45,
   "metadata": {},
   "outputs": [
    {
     "data": {
      "image/png": "[encoded data removed]",
      "text/plain": [
       "<Figure size 1080x432 with 1 Axes>"
      ]
     },
     "metadata": {
      "needs_background": "light"
     },
     "output_type": "display_data"
    }
   ],
   "source": [
    "# create a figure and axis \n",
    "fig, ax = plt.subplots(figsize=(15,6))\n",
    "# count the occurrence of each class \n",
    "data = roi_across_genre \n",
    "# get x and y data \n",
    "genre = data.index \n",
    "average = data.values \n",
    "# create bar chart \n",
    "ax.bar(genre, average) \n",
    "# set title and labels \n",
    "ax.set_title('Average ROI Across Genre') \n",
    "ax.set_ylabel('Return on Investment')\n",
    "plt.rc('xtick', labelsize=10);"
   ]
  },
  {
   "cell_type": "markdown",
   "metadata": {},
   "source": [
    "### The Storytellers and Leadership That Know How to Create Great Films"
   ]
  },
  {
   "cell_type": "markdown",
   "metadata": {},
   "source": [
    "Let's identify which people know how to create and produce great films so we can poach them for Microsoft's new studio."
   ]
  },
  {
   "cell_type": "markdown",
   "metadata": {},
   "source": [
    "### Which studios produce the best films?"
   ]
  },
  {
   "cell_type": "markdown",
   "metadata": {},
   "source": [
    "Let's create a list of the studios that have produced the greatest number of top films on IMDB."
   ]
  },
  {
   "cell_type": "code",
   "execution_count": 40,
   "metadata": {},
   "outputs": [
    {
     "data": {
      "text/plain": [
       "count                       258\n",
       "unique                       89\n",
       "top       Warner Bros. Pictures\n",
       "freq                         29\n",
       "dtype: object"
      ]
     },
     "metadata": {},
     "output_type": "display_data"
    },
    {
     "data": {
      "image/png": "[encoded data removed]",
      "text/plain": [
       "<Figure size 432x288 with 1 Axes>"
      ]
     },
     "metadata": {
      "needs_background": "light"
     },
     "output_type": "display_data"
    }
   ],
   "source": [
    "# visualize the range of repetition for production companies\n",
    "\n",
    "display(singular_studio_total.describe())\n",
    "plt.hist(singular_studio_total.value_counts());"
   ]
  },
  {
   "cell_type": "markdown",
   "metadata": {},
   "source": [
    "***\n",
    "We can see that like film genres - there are clear winners here. This trend really seems to go across our data at varying frequencies.\n",
    "***"
   ]
  },
  {
   "cell_type": "code",
   "execution_count": 46,
   "metadata": {},
   "outputs": [
    {
     "data": {
      "image/png": "[encoded data removed]",
      "text/plain": [
       "<Figure size 1080x432 with 1 Axes>"
      ]
     },
     "metadata": {
      "needs_background": "light"
     },
     "output_type": "display_data"
    }
   ],
   "source": [
    "# create a figure and axis \n",
    "fig, ax = plt.subplots(figsize=(15,6))\n",
    "# count the occurrence of each class \n",
    "data = singular_studio_total.value_counts().head(5) \n",
    "# get x and y data \n",
    "points = data.index \n",
    "frequency = data.values \n",
    "# create bar chart \n",
    "ax.bar(points, frequency) \n",
    "# set title and labels \n",
    "ax.set_title('Top Production Studios') \n",
    "ax.set_ylabel('Frequency in Top IMDB Films')\n",
    "plt.rc('xtick', labelsize=14);"
   ]
  },
  {
   "cell_type": "markdown",
   "metadata": {},
   "source": [
    "### Which storytellers are most present in the top films?"
   ]
  },
  {
   "cell_type": "markdown",
   "metadata": {},
   "source": [
    "Let's create a short-list of the storytellers revered for their work in film."
   ]
  },
  {
   "cell_type": "markdown",
   "metadata": {},
   "source": [
    "#### Directors"
   ]
  },
  {
   "cell_type": "code",
   "execution_count": 47,
   "metadata": {},
   "outputs": [
    {
     "data": {
      "image/png": "[encoded data removed]",
      "text/plain": [
       "<Figure size 1080x432 with 1 Axes>"
      ]
     },
     "metadata": {
      "needs_background": "light"
     },
     "output_type": "display_data"
    }
   ],
   "source": [
    "# create a figure and axis \n",
    "fig, ax = plt.subplots(figsize=(15,6))\n",
    "# count the occurrence of each class \n",
    "data = singular_director_total.value_counts().head(10) \n",
    "# get x and y data \n",
    "points = data.index \n",
    "frequency = data.values \n",
    "# create bar chart \n",
    "ax.barh(points, frequency) \n",
    "# set title and labels \n",
    "ax.set_title('Top Directors') \n",
    "ax.set_xlabel('Frequency in Top IMDB Films');"
   ]
  },
  {
   "cell_type": "markdown",
   "metadata": {},
   "source": [
    "#### Writers"
   ]
  },
  {
   "cell_type": "code",
   "execution_count": 43,
   "metadata": {},
   "outputs": [
    {
     "data": {
      "image/png": "[encoded data removed]",
      "text/plain": [
       "<Figure size 1080x432 with 1 Axes>"
      ]
     },
     "metadata": {
      "needs_background": "light"
     },
     "output_type": "display_data"
    }
   ],
   "source": [
    "# create a figure and axis \n",
    "fig, ax = plt.subplots(figsize=(15,6))\n",
    "# count the occurrence of each class \n",
    "data = writer_frequency['Writer'].value_counts().head(10) \n",
    "# get x and y data \n",
    "points = data.index \n",
    "frequency = data.values \n",
    "# create bar chart \n",
    "ax.barh(points, frequency) \n",
    "# set title and labels \n",
    "ax.set_title('Top Writers') \n",
    "ax.set_xlabel('Frequency in Top IMDB Films');"
   ]
  },
  {
   "cell_type": "markdown",
   "metadata": {},
   "source": [
    "#### Actors"
   ]
  },
  {
   "cell_type": "code",
   "execution_count": 44,
   "metadata": {},
   "outputs": [
    {
     "data": {
      "image/png": "[encoded data removed]",
      "text/plain": [
       "<Figure size 1080x432 with 1 Axes>"
      ]
     },
     "metadata": {
      "needs_background": "light"
     },
     "output_type": "display_data"
    }
   ],
   "source": [
    "# create a figure and axis \n",
    "fig, ax = plt.subplots(figsize=(15,6))\n",
    "# count the occurrence of each class \n",
    "data = singular_actor_total.value_counts().head(10) \n",
    "# get x and y data \n",
    "points = data.index \n",
    "frequency = data.values \n",
    "# create bar chart \n",
    "ax.barh(points, frequency) \n",
    "# set title and labels \n",
    "ax.set_title('Top Actors') \n",
    "ax.set_xlabel('Frequency in Top IMDB Films');"
   ]
  },
  {
   "cell_type": "markdown",
   "metadata": {},
   "source": [
    "## Conclusions\n",
    "Provide your conclusions about the work you've done, including any limitations or next steps.\n",
    "\n",
    "* **Hire revered storytellers.** Our distributions show us that audiences tend to favor particular storytellers above the rest. These films clearly have a much higher chance of winning at the box office.\n",
    "* **Poach executives and/or collaborate with the top studios.** Since one of Microsoft's greatest pain points is not having the know how to create great films, we need to keep in mind that great filmmakers often need truly great executives behind the scenes in order for their work to flourish. We can poach high quality executives with pre-existing relationships in Hollywood to help us bridge the gap. We also saw that quite a few of the top films had more than one studio on board. We don't have to go it alone, especially in the beginning as we get our bearings.\n",
    "* **Focus on drama with your content and your wallet.** While there are quite a few ways to expand beyond this primary genre and make a truly great film, this tends to be the backbone of the greats. Microsoft shouldn't ignore this and instead should make the majority of their upcoming releases a Drama as the studio starts up. Due to drama being more of a sure bet, they also should expect more return on investment from budget spent on these films and their advertising.\n",
    "* **Budget for multiple writers per film.** We can see that there is on average there is more than one writer per film in our IMDB dataset. While this isn't necessary, it tends to point toward a great film.\n",
    "\n",
    "## Next Steps\n",
    "\n",
    "This goes beyond our film analysis and is worth further exploration.\n",
    "\n",
    "* **Groom less experienced storytellers.** If Microsoft develops a repeated process where experienced storytellers groom up and comers, Microsoft is much more likely to develop a steady stream of quality filmmakers that audiences will grow to love. Due to the popularity of streaming, this could mean even there ealier work can get future recognition and revenue.\n",
    "* **Pay attention to a growing trend toward diversity.** One of Microsoft's primary values stated is diversity and inclusion. Viewers across the US and the world are becoming increasingly diverse and studies show that audiences favor stories that reflect their own. Microsoft has the chance to launch with this sort of understanding in their DNA. While diversity is sometimes noted in Hollywood, there are enormous strides needed (see [UCLA's 2020 Diversity Report](https://socialsciences.ucla.edu/wp-content/uploads/2020/02/UCLA-Hollywood-Diversity-Report-2020-Film-2-6-2020.pdf)) and there isn't a larger studio yet that has adamantly stood for diversity in front of and behind the camera. Quality storytellers are starting to make film decisions based on these factors (see efforts like the inclusion rider). Many of the necessary pieces and collaborators are already in existence (see firms like Charles King's [MACRO](https://www.staymacro.com/), Scott Budnick's [One Community](http://1communityllc.com/), Ava Duvernay's [Array](http://www.arraynow.com/))I believe this is a trend worth betting on for the long term and can make Microsoft stand apart. I'd like to prove it.\n",
    "* **Expand on our findings to chart increasingly current findings** While our IDMB dataset showed the current top 250 films, there is such a range of years covered that we could determine attributes and trends that have changed over time and would enhance these findings to become increasingly relevant. We could also introduce additional current ways of gauging the success of a film - by introducing streaming metrics and data around evergreen content that continues to take in profit and royalties. We could also expand beyond the medium to enlist Microsoft's studio to create other types of visual content versus long-form films."
   ]
  }
 ],
 "metadata": {
  "kernelspec": {
   "display_name": "Python 3",
   "language": "python",
   "name": "python3"
  },
  "language_info": {
   "codemirror_mode": {
    "name": "ipython",
    "version": 3
   },
   "file_extension": ".py",
   "mimetype": "text/x-python",
   "name": "python",
   "nbconvert_exporter": "python",
   "pygments_lexer": "ipython3",
   "version": "3.6.12"
  }
 },
 "nbformat": 4,
 "nbformat_minor": 4
}
